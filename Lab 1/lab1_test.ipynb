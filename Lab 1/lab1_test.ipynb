{
 "cells": [
  {
   "cell_type": "markdown",
   "id": "2204e0e2",
   "metadata": {},
   "source": [
    "# Lab 1: Linux commands & Python\n",
    "\n",
    "(Last update: 07/10/2024)\n",
    "\n",
    "Name: \n",
    "\n",
    "Student ID: \n",
    "\n",
    "---\n",
    "\n",
    "**Abstract**: This assignment tests your Python and Linux command skills. It also provides a general process for you to start a data project: Collect data $\\to$ Preprocess data $\\to$ Explore the meaning of data $\\to$ Mine insights from data.\n",
    "\n",
    "\n",
    "## 0. Instructions for doing and submitting assignment\n",
    "\n",
    "**How to do your assignment**\n",
    "\n",
    "You will do your assignment directly on this notebook file. First, you fill your name and student code at the beginning of the file. In this file, you will write your code when you see the following lines of code:\n",
    "```python\n",
    "# YOUR CODE HERE\n",
    "raise NotImplementedError()\n",
    "```\n",
    "\n",
    "For optional coding parts, there will be:\n",
    "```python\n",
    "# YOUR CODE HERE (OPTION)\n",
    "```\n",
    "\n",
    "For markdown cell, there will be:\n",
    "```markdown\n",
    "YOUR ANSWER HERE\n",
    "```\n",
    "\n",
    "Of course, you have to remove the `raise NotImplementedError()` statement when you finish.\n",
    "\n",
    "For coding parts, there are often cells below to help you check your answers. You will pass the test if there are no errors when you run the test cells. In some cases, the tests are insufficient. That means if you do not pass the test, your answer is definitely wrong somewhere, but if you pass the test, your answer may still be incorrect.\n",
    "\n",
    "While doing the assignment, you should print out the output and create more cells for testing. But you have to remove all of them (comment your print-out codes, delete the cell created by you) when you submit your code. <font color=red>Do not remove or edit my cells</font> (except for the aforementioned cells).\n",
    "\n",
    "Keep your code clean and clear by using meaningful variable names and comments, not write too-long coding lines.\n",
    "Press `Ctrl + S` right after editing.\n",
    "\n",
    "Keep it real: The reason why you are here is to <font color=green>study, really study</font>. I highly recommend that you discuss your idea with your friends and <font color=green>write your own code based on your own knowledge</font>. <font color=red>Copy means zero.</font>\n",
    "\n",
    "**How to submit your assignment**\n",
    "\n",
    "When grading your assignment, I will choose `Kernel` - `Restart & Run All` in order to restart the kernel and run all cells in your notebook. Therefore, you should do that before submitting to ensure that the outputs are all as expected.\n",
    "\n",
    "After that, rename the notebook as `<Student ID>.ipynb`. For example, if your student code is 1234567, then your notebook is `1234567.ipynb`.\n",
    "\n",
    "Finally, submit your notebook file on Moodle. <font color=red>Please strictly follow the submission rules.</font>\n",
    "\n",
    "---"
   ]
  },
  {
   "cell_type": "markdown",
   "id": "59f40065",
   "metadata": {},
   "source": [
    "## 1. Programming environment\n",
    "\n",
    "- You will re-use the Linux environment setup in Lab 0 - WarmUp. Don't forget to start your coding environment (`conda activate min_ds-env`) before doing your assignment.\n",
    "- Use Jupyter notebook or Jupyter lab, <font color=red>not Google Colab</font> (I can not grade you well on Google Colab) to edit your `*.ipynb` file."
   ]
  },
  {
   "cell_type": "code",
   "execution_count": 1,
   "id": "b9130eef",
   "metadata": {},
   "outputs": [
    {
     "data": {
      "text/plain": [
       "'c:\\\\Users\\\\acer\\\\AppData\\\\Local\\\\Programs\\\\Python\\\\Python312\\\\python.exe'"
      ]
     },
     "execution_count": 1,
     "metadata": {},
     "output_type": "execute_result"
    }
   ],
   "source": [
    "import sys\n",
    "sys.executable"
   ]
  },
  {
   "cell_type": "markdown",
   "id": "a2529136",
   "metadata": {},
   "source": [
    "- Import necessary libraries"
   ]
  },
  {
   "cell_type": "code",
   "execution_count": 2,
   "id": "2a8c0627",
   "metadata": {},
   "outputs": [],
   "source": [
    "import datetime\n",
    "# YOUR CODE HERE (OPTION)"
   ]
  },
  {
   "cell_type": "markdown",
   "id": "706a3de5",
   "metadata": {},
   "source": [
    "## 2. Data collection\n",
    "\n",
    "- You are required to do the following tasks using Linux command:\n",
    "    - Create a folder named `./data`\n",
    "    - Collect data from the the links that were specified in `links.txt` and save to `./data` using `wget`\n",
    "    - After collecting data, rename your data as `data_2019.csv`, `data_2018.csv` and `guidance.csv` using `mv`\n",
    "    - List all the file contained in `./data` using `ls`"
   ]
  },
  {
   "cell_type": "code",
   "execution_count": 3,
   "id": "eca2bdf3",
   "metadata": {
    "scrolled": true
   },
   "outputs": [],
   "source": [
    "# # YOUR CODE HERE\n",
    "# raise NotImplementedError()\n",
    "!wsl mkdir data"
   ]
  },
  {
   "cell_type": "code",
   "execution_count": 4,
   "id": "9e264f33",
   "metadata": {},
   "outputs": [
    {
     "name": "stderr",
     "output_type": "stream",
     "text": [
      "--2024-10-18 14:21:30--  https://datamillnorth.org/download/road-traffic-accidents/8e6585f6-e627-4258-b16f-ca3858c0cc67/Traffic%2520accidents_2019_Leeds.csv\n",
      "Resolving datamillnorth.org (datamillnorth.org)... 104.26.4.58, 172.67.68.118, 104.26.5.58, ...\n",
      "Connecting to datamillnorth.org (datamillnorth.org)|104.26.4.58|:443... connected.\n",
      "HTTP request sent, awaiting response... 302 Found\n",
      "Location: /download/2o11d/8e6585f6-e627-4258-b16f-ca3858c0cc67/Traffic%2520accidents_2019_Leeds.csv [following]\n",
      "--2024-10-18 14:21:32--  https://datamillnorth.org/download/2o11d/8e6585f6-e627-4258-b16f-ca3858c0cc67/Traffic%2520accidents_2019_Leeds.csv\n",
      "Reusing existing connection to datamillnorth.org:443.\n",
      "HTTP request sent, awaiting response... 200 OK\n",
      "Length: 143972 (141K) [text/csv]\n",
      "Saving to: ‘data/Traffic accidents_2019_Leeds.csv’\n",
      "\n",
      "     0K .......... .......... .......... .......... .......... 35% 1.35M 0s\n",
      "    50K .......... .......... .......... .......... .......... 71%  310K 0s\n",
      "   100K .......... .......... .......... ..........           100%  176K=0.4s\n",
      "\n",
      "Last-modified header invalid -- time-stamp ignored.\n",
      "2024-10-18 14:21:33 (329 KB/s) - ‘data/Traffic accidents_2019_Leeds.csv’ saved [143972/143972]\n",
      "\n",
      "--2024-10-18 14:21:33--  https://datamillnorth.org/download/road-traffic-accidents/8c100249-09c5-4aac-91c1-9c7c3656892b/RTC%25202018_Leeds.csv\n",
      "Reusing existing connection to datamillnorth.org:443.\n",
      "HTTP request sent, awaiting response... 302 Found\n",
      "Location: /download/2o11d/8c100249-09c5-4aac-91c1-9c7c3656892b/RTC%25202018_Leeds.csv [following]\n",
      "--2024-10-18 14:21:33--  https://datamillnorth.org/download/2o11d/8c100249-09c5-4aac-91c1-9c7c3656892b/RTC%25202018_Leeds.csv\n",
      "Reusing existing connection to datamillnorth.org:443.\n",
      "HTTP request sent, awaiting response... 200 OK\n",
      "Length: 186602 (182K) [text/csv]\n",
      "Saving to: ‘data/RTC 2018_Leeds.csv’\n",
      "\n",
      "     0K .......... .......... .......... .......... .......... 27% 2.87M 0s\n",
      "    50K .......... .......... .......... .......... .......... 54%  309K 0s\n",
      "   100K .......... .......... .......... .......... .......... 82% 5.19M 0s\n",
      "   150K .......... .......... .......... ..                   100% 5.93M=0.2s\n",
      "\n",
      "Last-modified header invalid -- time-stamp ignored.\n",
      "2024-10-18 14:21:34 (942 KB/s) - ‘data/RTC 2018_Leeds.csv’ saved [186602/186602]\n",
      "\n",
      "--2024-10-18 14:21:34--  https://datamillnorth.org/download/road-traffic-accidents/ffc7c1f3-923e-457f-a014-5b3fa2d24f1c/accidentsguidance.csv\n",
      "Reusing existing connection to datamillnorth.org:443.\n",
      "HTTP request sent, awaiting response... 302 Found\n",
      "Location: /download/2o11d/ffc7c1f3-923e-457f-a014-5b3fa2d24f1c/accidentsguidance.csv [following]\n",
      "--2024-10-18 14:21:34--  https://datamillnorth.org/download/2o11d/ffc7c1f3-923e-457f-a014-5b3fa2d24f1c/accidentsguidance.csv\n",
      "Reusing existing connection to datamillnorth.org:443.\n",
      "HTTP request sent, awaiting response... 200 OK\n",
      "Length: 1769 (1.7K) [text/csv]\n",
      "Saving to: ‘data/accidentsguidance.csv’\n",
      "\n",
      "     0K .                                                     100%  251M=0s\n",
      "\n",
      "Last-modified header invalid -- time-stamp ignored.\n",
      "2024-10-18 14:21:35 (251 MB/s) - ‘data/accidentsguidance.csv’ saved [1769/1769]\n",
      "\n",
      "FINISHED --2024-10-18 14:21:35--\n",
      "Total wall clock time: 4.7s\n",
      "Downloaded: 3 files, 325K in 0.6s (522 KB/s)\n"
     ]
    }
   ],
   "source": [
    "# # YOUR CODE HERE\n",
    "# raise NotImplementedError()\n",
    "!wsl wget -i links.txt -P data/"
   ]
  },
  {
   "cell_type": "code",
   "execution_count": 5,
   "id": "67214374",
   "metadata": {},
   "outputs": [],
   "source": [
    "!wsl mv data/accidentsguidance.csv data/guidance.csv\n",
    "!wsl mv data/\"RTC 2018_Leeds.csv\" data/data_2018.csv\n",
    "!wsl mv data/\"Traffic accidents_2019_Leeds.csv\" data/data_2019.csv"
   ]
  },
  {
   "cell_type": "code",
   "execution_count": 6,
   "id": "0274db28",
   "metadata": {},
   "outputs": [
    {
     "name": "stdout",
     "output_type": "stream",
     "text": [
      "data_2018.csv\n",
      "data_2019.csv\n",
      "guidance.csv\n"
     ]
    }
   ],
   "source": [
    "!wsl ls data/"
   ]
  },
  {
   "cell_type": "markdown",
   "id": "aa3dd33c",
   "metadata": {},
   "source": [
    "## 3. Data exploring & Data preprocessing\n",
    "\n",
    "### 3.0. Read data\n",
    "\n",
    "- First, I suggest you check the downloaded data by yourself before handing on the code. What kind of the data that you have just downloaded? What is the meaning of each file?\n",
    "\n",
    "YOUR ANSWER HERE: They are tabular data, which contain information about traffic accidents in UK from 2018 to 2019. Additionally, there is a file that explains the notions in 2 data files.\n",
    "\n",
    "- After checking the data, design a function named `read_data` with the name of data file as parameter, which returns a dictionary. Each element of this dictionary follows:\n",
    "    - Key: Name of the columns\n",
    "    - Value: Lists which contains the data of the coresponding columns"
   ]
  },
  {
   "cell_type": "code",
   "execution_count": 7,
   "id": "49c58962",
   "metadata": {},
   "outputs": [],
   "source": [
    "def read_data(file_name):\n",
    "    # # YOUR CODE HERE\n",
    "    # raise NotImplementedError()\n",
    "    cols={}\n",
    "    file=open(file_name,'r',encoding='utf-8-sig')\n",
    "    first_line_vals=file.readline().rstrip().split(',')\n",
    "    for first_line_val in first_line_vals:\n",
    "        cols[first_line_val]=[]\n",
    "    for line in file:\n",
    "        line_vals=line.rstrip().split(',')\n",
    "        for i in range(len(line_vals)):\n",
    "            cols[first_line_vals[i]].append(line_vals[i])\n",
    "    return cols\n",
    "\n",
    "data_2018 = read_data('./data/data_2018.csv')\n",
    "data_2019 = read_data('./data/data_2019.csv')"
   ]
  },
  {
   "cell_type": "code",
   "execution_count": 8,
   "id": "88bcd3c9",
   "metadata": {},
   "outputs": [],
   "source": [
    "# TEST\n",
    "assert set(data_2018.keys()) == set(['Accident Fields_Reference Number', 'Grid Ref: Easting', 'Grid Ref: Northing', 'Number of Vehicles', 'Accident Date', 'Time (24hr)', '1st Road Class', '1st Road Class & No', 'Road Surface', 'Lighting Conditions', 'Weather Conditions', 'Local Authority', 'Vehicle Fields_Reference Number', 'Vehicle Number', 'Type of Vehicle', 'Casualty Fields_Reference Number', 'Casualty Veh No', 'Casualty Class', 'Casualty Severity', 'Sex of Casualty', 'Age of Casualty'])\n",
    "assert set(data_2019.keys()) == set(['Reference Number', 'Grid Ref: Easting', 'Grid Ref: Northing', 'Number of Vehicles', 'Accident Date', 'Time (24hr)', '1st Road Class', '1st Road Class & No', 'Road Surface', 'Lighting Conditions', 'Weather Conditions', 'Local Authority', 'Vehicle Number', 'Type of Vehicle', 'Casualty Class', 'Casualty Severity', 'Sex of Casualty', 'Age of Casualty'])\n",
    "\n",
    "id_col_len = len(data_2018['Accident Fields_Reference Number'])\n",
    "for col_name in data_2018:\n",
    "    assert len(data_2018[col_name]) == id_col_len\n",
    "    \n",
    "id_col_len = len(data_2019['Reference Number'])\n",
    "for col_name in data_2019:\n",
    "    assert len(data_2019[col_name]) == id_col_len"
   ]
  },
  {
   "cell_type": "markdown",
   "id": "d9682b5a",
   "metadata": {},
   "source": [
    "### 3.1. The meaning of each column/row\n",
    "\n",
    "- Please refer to `./data/guidance.csv` in order to get the meaning of each column\n",
    "- Each row corresponds to an accident with a unique reference number\n",
    "- Compute the number of rows and columns and assign to `num_rows_2018`, `num_cols_2018`, `num_rows_2019`, `num_cols_2019`"
   ]
  },
  {
   "cell_type": "code",
   "execution_count": 9,
   "id": "337fe67b",
   "metadata": {},
   "outputs": [],
   "source": [
    "# # YOUR CODE HERE\n",
    "# raise NotImplementedError()\n",
    "num_rows_2018=len(data_2018['Accident Fields_Reference Number'])\n",
    "num_cols_2018=len(data_2018)\n",
    "num_rows_2019=len(data_2019['Reference Number'])\n",
    "num_cols_2019=len(data_2019)"
   ]
  },
  {
   "cell_type": "code",
   "execution_count": 10,
   "id": "10d7ccbb",
   "metadata": {},
   "outputs": [],
   "source": [
    "# TEST\n",
    "assert (num_rows_2018, num_cols_2018, num_rows_2019, num_cols_2019) == (1995, 21, 1907, 18)"
   ]
  },
  {
   "cell_type": "markdown",
   "id": "79445930",
   "metadata": {},
   "source": [
    "### 3.2. Duplicated columns\n",
    "\n",
    "- Observe the data in 2018, you can see that columns `Accident Fields_Reference Number`, `Vehicle Fields_Reference Number` and `Casualty Fields_Reference Number` seem to contain quite similar data.\n",
    "\n",
    "- Additionally, columns `Number of Vehicles` and `Vehicle Number` in `data_2018` and `data_2019` also look quite similar.\n",
    "\n",
    "- In order to make sure of these hypothesises, you have to check these columns. Your mission is to design a function named `check_similarity` in order to check the similarity (in percentage) of 2 given columns.\n",
    "- The percentage of similarity is computed by dividing the number of similar samples to total samples. `check_similarity` return a number illustrating the similarity of 2 columns.\n"
   ]
  },
  {
   "cell_type": "code",
   "execution_count": 11,
   "id": "021bf341",
   "metadata": {},
   "outputs": [],
   "source": [
    "def check_similarity(data, col_name_1, col_name_2):\n",
    "    # YOUR CODE HERE\n",
    "    if (col_name_1 not in data.keys()) or (col_name_2 not in data.keys()):\n",
    "        return 0\n",
    "    else:\n",
    "        if len(data[col_name_1]) != len(data[col_name_2]):\n",
    "            return 0\n",
    "        else:\n",
    "            if col_name_1==col_name_2 == True:\n",
    "                return 1\n",
    "            else:\n",
    "                total_sample=len(data[col_name_1])\n",
    "                count_equal=0\n",
    "                for i in range(total_sample):\n",
    "                    if data[col_name_1][i]==data[col_name_2][i]:\n",
    "                        count_equal+=1\n",
    "                return count_equal/total_sample\n",
    "    "
   ]
  },
  {
   "cell_type": "code",
   "execution_count": 12,
   "id": "0151d75e",
   "metadata": {},
   "outputs": [],
   "source": [
    "# TEST\n",
    "assert round(check_similarity(data_2018, 'Accident Fields_Reference Number', 'Vehicle Fields_Reference Number'),5) == 1.\n",
    "assert round(check_similarity(data_2018, 'Accident Fields_Reference Number', 'Casualty Fields_Reference Number'),5) == 1.\n",
    "assert round(check_similarity(data_2018, 'Number of Vehicles', 'Vehicle Number'), 5) == 0.65213\n",
    "assert round(check_similarity(data_2019, 'Number of Vehicles', 'Vehicle Number'), 5) == 0.67541"
   ]
  },
  {
   "cell_type": "markdown",
   "id": "3e2f8541",
   "metadata": {},
   "source": [
    "- Therefore, column `Accident Fields_Reference Number`, `Vehicle Fields_Reference Number` and `Casualty Fields_Reference Number` contain the same data. We have to remove 2 of them.\n",
    "- It could be noise for us to analyze 2 columns with more than 65% similarity, so I also decide to remove `Vehicle Number`.\n",
    "- Since removing an element from a dictionary is a really hard task for beginner, I will help you on that."
   ]
  },
  {
   "cell_type": "code",
   "execution_count": 13,
   "id": "ecbda0b2",
   "metadata": {},
   "outputs": [],
   "source": [
    "del data_2018['Vehicle Fields_Reference Number'], data_2018['Casualty Fields_Reference Number']\n",
    "del data_2019['Vehicle Number'], data_2018['Vehicle Number']"
   ]
  },
  {
   "cell_type": "markdown",
   "id": "e5608af9",
   "metadata": {},
   "source": [
    "### 3.3. Data merging & Data checking\n",
    "\n",
    "- In order for us to conveniently analyze the data, we should merge 2 data sets into 1.\n",
    "- Compare the columns of 2 data sets, you can see that there are some unmergeable columns:\n",
    "    - Column `Casualty Veh No` in `data_2018`: `data_2019` does not have one, so we have to remove this column from `data_2018`\n",
    "    - Column `Accident Fields_Reference Number` in `data_2018` should be changed to `Reference Number`\n",
    "- I will help you on these 2 tasks, then you will merge 2 data sets into `data_18_19`"
   ]
  },
  {
   "cell_type": "code",
   "execution_count": 14,
   "id": "2b6890cb",
   "metadata": {},
   "outputs": [],
   "source": [
    "# delete `Casualty Veh No` in data_2018\n",
    "del data_2018['Casualty Veh No']\n",
    "\n",
    "# rename\n",
    "data_2018['Reference Number'] = data_2018.pop('Accident Fields_Reference Number')"
   ]
  },
  {
   "cell_type": "code",
   "execution_count": 15,
   "id": "21686b56",
   "metadata": {},
   "outputs": [],
   "source": [
    "# TEST\n",
    "assert set(data_2018.keys()) == set(data_2019.keys())"
   ]
  },
  {
   "cell_type": "code",
   "execution_count": 16,
   "id": "9742b65a",
   "metadata": {},
   "outputs": [],
   "source": [
    "# # YOUR CODE HERE\n",
    "# raise NotImplementedError()\n",
    "data_18_19={}\n",
    "for i in data_2019.keys():\n",
    "    data_18_19[i]=data_2018[i]+data_2019[i]"
   ]
  },
  {
   "cell_type": "markdown",
   "id": "de119d69",
   "metadata": {},
   "source": [
    "- After merging 2 data sets, you have to check whether there is any duplicated row based on the ID of each case. If there is, it should be removed from the dataset."
   ]
  },
  {
   "cell_type": "code",
   "execution_count": 17,
   "id": "93463312",
   "metadata": {},
   "outputs": [
    {
     "name": "stdout",
     "output_type": "stream",
     "text": [
      "Duplicated rows: True. Number of duplicated rows: 904\n"
     ]
    }
   ],
   "source": [
    "id_col = data_18_19['Reference Number']\n",
    "num_duplicated = len(id_col) - len(set(id_col))\n",
    "\n",
    "print(f'Duplicated rows: {\"True\" if num_duplicated > 0 else \"False\"}. Number of duplicated rows: {num_duplicated}')"
   ]
  },
  {
   "cell_type": "code",
   "execution_count": 18,
   "id": "91d00743",
   "metadata": {},
   "outputs": [],
   "source": [
    "# # YOUR CODE HERE\n",
    "# raise NotImplementedError()\n",
    "unique_data = {col: [] for col in data_18_19.keys()}\n",
    "appeared=set()\n",
    "for row in zip(*data_18_19.values()):\n",
    "    name=row[0]\n",
    "    if name not in appeared:\n",
    "        appeared.add(name)\n",
    "        for i, col in enumerate(data_18_19.keys()):\n",
    "            unique_data[col].append(row[i])\n",
    "data_18_19=unique_data"
   ]
  },
  {
   "cell_type": "code",
   "execution_count": 19,
   "id": "36593124",
   "metadata": {},
   "outputs": [],
   "source": [
    "# TEST\n",
    "assert set(data_18_19.keys()) == set(data_2018.keys())\n",
    "assert len(set(data_18_19['Reference Number'])) == len(data_18_19['Reference Number'])\n",
    "assert len(data_18_19['1st Road Class']) == 2998"
   ]
  },
  {
   "cell_type": "markdown",
   "id": "997ba941",
   "metadata": {},
   "source": [
    "- You also have to check if there is any missing data. For missing data, I suggest you to fill in since there are a lot of methods to handle it. But if the missing data for a column becomes too much (e.g. more than 50%), you should consider to remove the column out of the dataset.\n",
    "\n",
    "- In this assignment, you will check missing data for each column. Result will be stored in a dictionary named `check_missing_data` which the key is column name and the value is `True` (some data is missing), `False` (no missing data)."
   ]
  },
  {
   "cell_type": "code",
   "execution_count": 20,
   "id": "4723c412",
   "metadata": {},
   "outputs": [
    {
     "data": {
      "text/plain": [
       "{'Reference Number': False,\n",
       " 'Grid Ref: Easting': False,\n",
       " 'Grid Ref: Northing': False,\n",
       " 'Number of Vehicles': False,\n",
       " 'Accident Date': False,\n",
       " 'Time (24hr)': False,\n",
       " '1st Road Class': False,\n",
       " '1st Road Class & No': False,\n",
       " 'Road Surface': False,\n",
       " 'Lighting Conditions': False,\n",
       " 'Weather Conditions': False,\n",
       " 'Local Authority': False,\n",
       " 'Type of Vehicle': False,\n",
       " 'Casualty Class': False,\n",
       " 'Casualty Severity': False,\n",
       " 'Sex of Casualty': False,\n",
       " 'Age of Casualty': False}"
      ]
     },
     "execution_count": 20,
     "metadata": {},
     "output_type": "execute_result"
    }
   ],
   "source": [
    "# # YOUR CODE HERE\n",
    "# raise NotImplementedError()\n",
    "check_missing_data={}\n",
    "for i in data_18_19.keys():\n",
    "    missing_count = sum(1 for value in data_18_19[i] if value is None or value == '')\n",
    "    if missing_count==0:\n",
    "        check_missing_data[i]=False\n",
    "    else:\n",
    "        check_missing_data[i]=True\n",
    "check_missing_data\n"
   ]
  },
  {
   "cell_type": "code",
   "execution_count": 21,
   "id": "7a19f7ee",
   "metadata": {},
   "outputs": [],
   "source": [
    "# TEST\n",
    "assert set(check_missing_data.keys()) == set(data_18_19.keys())\n",
    "for col in check_missing_data.keys():\n",
    "    assert check_missing_data[col] == False"
   ]
  },
  {
   "cell_type": "markdown",
   "id": "a176b4f5",
   "metadata": {},
   "source": [
    "### 3.4. Data conversion\n",
    "\n",
    "- Obverse the datatype of each column"
   ]
  },
  {
   "cell_type": "code",
   "execution_count": 22,
   "id": "1d1eba91",
   "metadata": {},
   "outputs": [
    {
     "name": "stdout",
     "output_type": "stream",
     "text": [
      "Reference Number          <class 'str'>\n",
      "Grid Ref: Easting         <class 'str'>\n",
      "Grid Ref: Northing        <class 'str'>\n",
      "Number of Vehicles        <class 'str'>\n",
      "Accident Date             <class 'str'>\n",
      "Time (24hr)               <class 'str'>\n",
      "1st Road Class            <class 'str'>\n",
      "1st Road Class & No       <class 'str'>\n",
      "Road Surface              <class 'str'>\n",
      "Lighting Conditions       <class 'str'>\n",
      "Weather Conditions        <class 'str'>\n",
      "Local Authority           <class 'str'>\n",
      "Type of Vehicle           <class 'str'>\n",
      "Casualty Class            <class 'str'>\n",
      "Casualty Severity         <class 'str'>\n",
      "Sex of Casualty           <class 'str'>\n",
      "Age of Casualty           <class 'str'>\n"
     ]
    }
   ],
   "source": [
    "for col in data_18_19.keys():\n",
    "    print(f'{col:25} {type(data_18_19[col][0])}')"
   ]
  },
  {
   "cell_type": "markdown",
   "id": "aa821d4d",
   "metadata": {},
   "source": [
    "- Before moving to analyzing the dataset, the datatype of each column should be correct.\n",
    "- Based on `./data/guidance.csv` and research on the Internet:\n",
    "    - `Grid Ref` values are coordinate location in UK format $\\to$ Datatype: int\n",
    "    - `Number of Vehicles`: int\n",
    "    - `Accident Date`: datetime\n",
    "    - `Time (24hr)`: datetime\n",
    "    - `Age of Casualty`: int\n",
    "    - `1st Road Class`: str\n",
    "    - Rest: str\n",
    "    \n",
    "- In reallife project, you have to convert all columns into their correct datatype before doing anything else. But in this assignment, you are just required to merge `Time (24hr)` and `Accident Date` into column `Full time` with the correct datatype (datetime). After merging, delete `Time (24hr)` and `Accident Date`.\n",
    "    - The format of `Time (24hr)`: `hhmm`\n",
    "    - The format of `Accident Date`: `dd/mm/yyyy`"
   ]
  },
  {
   "cell_type": "code",
   "execution_count": 23,
   "id": "10bb8ea0",
   "metadata": {},
   "outputs": [],
   "source": [
    "# # YOUR CODE HERE\n",
    "# raise NotImplementedError()\n",
    "import datetime\n",
    "from datetime import datetime\n",
    "\n",
    "new_col_val=[]\n",
    "for i in range(len(data_18_19['Reference Number'])):\n",
    "    value = datetime.strptime(data_18_19['Accident Date'][i] + ' ' + data_18_19['Time (24hr)'][i], '%d/%m/%Y %H%M')\n",
    "    new_col_val.append(value)   \n",
    "data_18_19['Full time']=new_col_val\n",
    "\n",
    "del data_18_19['Time (24hr)'], data_18_19['Accident Date']\n"
   ]
  },
  {
   "cell_type": "code",
   "execution_count": 24,
   "id": "990f5917",
   "metadata": {},
   "outputs": [],
   "source": [
    "import datetime"
   ]
  },
  {
   "cell_type": "code",
   "execution_count": 25,
   "id": "3e16a1b0",
   "metadata": {},
   "outputs": [],
   "source": [
    "# TEST\n",
    "assert set(data_18_19.keys()) == set(['Grid Ref: Easting', 'Grid Ref: Northing', 'Number of Vehicles', '1st Road Class', '1st Road Class & No', 'Road Surface', 'Lighting Conditions', 'Weather Conditions', 'Local Authority', 'Type of Vehicle', 'Casualty Class', 'Casualty Severity', 'Sex of Casualty', 'Age of Casualty', 'Reference Number', 'Full time'])\n",
    "assert type(data_18_19['Full time'][0]) == datetime.datetime"
   ]
  },
  {
   "cell_type": "markdown",
   "id": "983c1aec",
   "metadata": {},
   "source": [
    "- Looks like values in the `Local Authority` column are all the same\n",
    "- You need to count the number of distinct values of the `Local Authority` column\n",
    "- If all values in the `Local Authority` are the same, delete that column"
   ]
  },
  {
   "cell_type": "code",
   "execution_count": 26,
   "id": "e272e144",
   "metadata": {},
   "outputs": [],
   "source": [
    "# YOUR CODE HERE\n",
    "num_distinct_authority = len(set(data_18_19['Local Authority']))\n",
    "if num_distinct_authority == 1:\n",
    "    del data_18_19['Local Authority']"
   ]
  },
  {
   "cell_type": "code",
   "execution_count": 27,
   "id": "35de2a0e",
   "metadata": {},
   "outputs": [],
   "source": [
    "assert num_distinct_authority == 1\n",
    "assert 'Local Authority' not in data_18_19.keys()"
   ]
  },
  {
   "cell_type": "markdown",
   "id": "7f2d692b",
   "metadata": {},
   "source": [
    "## 4. Questions proposing & answering\n",
    "\n",
    "- In this section, we are going to propose 2 questions that can be answered by data. I will propose 1 question. The other one will be your task.\n",
    "- Note that answering these questions should give us some insight or useful information about traffic in UK.\n",
    "\n",
    "### 4.1. Question #1\n",
    "\n",
    "- How many accidents are there in each day of a week (Mon $\\to$ Sun) and in each hour of a day (0 $\\to$ 23)?\n",
    "- Meaning: Warn people to be careful when participating in traffic during those hours\n",
    "- Answer:\n",
    "    - Firstly, you will create a `matrix_` size $7\\times24$ which each element indicates he number of accidents during a certain hour of a certain day of the week. E.g. `matrix_[1][7]` indicates the number of accidents from 7h00m to 7h59m of Tuesday\n",
    "    - Then, you will fill in the matrix based on the column `Full time` that you have just created\n",
    "    - Finally, I will help you visualize the result"
   ]
  },
  {
   "cell_type": "code",
   "execution_count": 28,
   "id": "4ed813b5",
   "metadata": {},
   "outputs": [
    {
     "data": {
      "text/plain": [
       "[[9, 4, 3, 4, 4, 13, 14],\n",
       " [2, 1, 2, 2, 1, 9, 6],\n",
       " [4, 2, 0, 2, 0, 7, 8],\n",
       " [4, 1, 4, 0, 0, 4, 1],\n",
       " [5, 1, 2, 3, 2, 5, 7],\n",
       " [4, 6, 4, 0, 1, 4, 6],\n",
       " [6, 6, 6, 13, 13, 0, 2],\n",
       " [22, 28, 33, 34, 26, 5, 4],\n",
       " [25, 44, 46, 42, 39, 2, 6],\n",
       " [24, 24, 21, 29, 23, 17, 14],\n",
       " [20, 23, 18, 20, 23, 17, 10],\n",
       " [12, 17, 20, 20, 18, 22, 21],\n",
       " [17, 14, 17, 17, 21, 27, 24],\n",
       " [20, 28, 19, 30, 31, 26, 19],\n",
       " [35, 23, 27, 29, 35, 22, 12],\n",
       " [54, 41, 38, 37, 42, 28, 30],\n",
       " [38, 44, 41, 43, 51, 27, 20],\n",
       " [42, 43, 52, 39, 42, 30, 19],\n",
       " [24, 32, 34, 43, 32, 24, 27],\n",
       " [17, 22, 28, 32, 29, 30, 18],\n",
       " [16, 12, 17, 19, 21, 20, 10],\n",
       " [6, 7, 15, 17, 20, 11, 14],\n",
       " [8, 8, 13, 10, 14, 13, 9],\n",
       " [4, 5, 7, 7, 18, 11, 4]]"
      ]
     },
     "execution_count": 28,
     "metadata": {},
     "output_type": "execute_result"
    }
   ],
   "source": [
    "# # YOUR CODE HERE\n",
    "# raise NotImplementedError()\n",
    "nrow = 24\n",
    "ncol = 7\n",
    "matrix_ = [[0 for _ in range (ncol)] for _ in range(nrow)]\n",
    "for i in data_18_19['Full time']:\n",
    "    row_index=i.hour\n",
    "    col_index=i.weekday()\n",
    "    matrix_[row_index][col_index]+=1\n",
    "matrix_\n"
   ]
  },
  {
   "cell_type": "code",
   "execution_count": 29,
   "id": "51dc1b29",
   "metadata": {},
   "outputs": [
    {
     "data": {
      "text/plain": [
       "Text(0.5, 1.0, 'Thống kê tai nạn tại các khung giờ của các ngày trong tuần')"
      ]
     },
     "execution_count": 29,
     "metadata": {},
     "output_type": "execute_result"
    },
    {
     "data": {
      "image/png": "[encoded data removed]",
      "text/plain": [
       "<Figure size 1000x600 with 2 Axes>"
      ]
     },
     "metadata": {},
     "output_type": "display_data"
    }
   ],
   "source": [
    "# visualize\n",
    "# !pip install seaborn\n",
    "import matplotlib.pyplot as plt\n",
    "import seaborn as sns\n",
    "\n",
    "day_of_week = ['Mon', 'Tue', 'Wed', 'Thu', 'Fri', 'Sat', 'Sun']\n",
    "\n",
    "plt.figure(figsize=(10,6))\n",
    "ax = sns.heatmap(matrix_, linewidths=.5, yticklabels = day_of_week)\n",
    "ax.set_xlabel('Thời gian')\n",
    "ax.set_ylabel('Ngày trong tuần')\n",
    "ax.set_title('Thống kê tai nạn tại các khung giờ của các ngày trong tuần')"
   ]
  },
  {
   "cell_type": "markdown",
   "id": "866a9b43",
   "metadata": {},
   "source": [
    "- Conclusion: The chart reveals that the highest number of accidents occurs at 15:00 on Monday, 17:00 on Wednesday, and 16:00 on Friday."
   ]
  },
  {
   "cell_type": "markdown",
   "id": "a88a291e",
   "metadata": {},
   "source": [
    "### 4.2. Question #2\n",
    "\n",
    "YOUR ANSWER HERE\n",
    "\n",
    "- Question: \n",
    "- Meaning: "
   ]
  },
  {
   "cell_type": "code",
   "execution_count": 1,
   "id": "3ab5676d",
   "metadata": {},
   "outputs": [],
   "source": [
    "# YOUR CODE HERE\n",
    "#raise NotImplementedError()"
   ]
  }
 ],
 "metadata": {
  "kernelspec": {
   "display_name": "Python 3",
   "language": "python",
   "name": "python3"
  },
  "language_info": {
   "codemirror_mode": {
    "name": "ipython",
    "version": 3
   },
   "file_extension": ".py",
   "mimetype": "text/x-python",
   "name": "python",
   "nbconvert_exporter": "python",
   "pygments_lexer": "ipython3",
   "version": "3.12.7"
  },
  "varInspector": {
   "cols": {
    "lenName": 16,
    "lenType": 16,
    "lenVar": 40
   },
   "kernels_config": {
    "python": {
     "delete_cmd_postfix": "",
     "delete_cmd_prefix": "del ",
     "library": "var_list.py",
     "varRefreshCmd": "print(var_dic_list())"
    },
    "r": {
     "delete_cmd_postfix": ") ",
     "delete_cmd_prefix": "rm(",
     "library": "var_list.r",
     "varRefreshCmd": "cat(var_dic_list()) "
    }
   },
   "types_to_exclude": [
    "module",
    "function",
    "builtin_function_or_method",
    "instance",
    "_Feature"
   ],
   "window_display": false
  }
 },
 "nbformat": 4,
 "nbformat_minor": 5
}
