{
 "cells": [
  {
   "cell_type": "markdown",
   "id": "2204e0e2",
   "metadata": {},
   "source": [
    "# Lab 1: Linux commands & Python\n",
    "\n",
    "(Last update: 07/10/2024)\n",
    "\n",
    "Name: Lê Hoàng Vũ\n",
    "\n",
    "Student ID: 22120461\n",
    "\n",
    "---\n",
    "\n",
    "**Abstract**: This assignment tests your Python and Linux command skills. It also provides a general process for you to start a data project: Collect data $\\to$ Preprocess data $\\to$ Explore the meaning of data $\\to$ Mine insights from data.\n",
    "\n",
    "\n",
    "## 0. Instructions for doing and submitting assignment\n",
    "\n",
    "**How to do your assignment**\n",
    "\n",
    "You will do your assignment directly on this notebook file. First, you fill your name and student code at the beginning of the file. In this file, you will write your code when you see the following lines of code:\n",
    "```python\n",
    "# YOUR CODE HERE\n",
    "raise NotImplementedError()\n",
    "```\n",
    "\n",
    "For optional coding parts, there will be:\n",
    "```python\n",
    "# YOUR CODE HERE (OPTION)\n",
    "```\n",
    "\n",
    "For markdown cell, there will be:\n",
    "```markdown\n",
    "YOUR ANSWER HERE\n",
    "```\n",
    "\n",
    "Of course, you have to remove the `raise NotImplementedError()` statement when you finish.\n",
    "\n",
    "For coding parts, there are often cells below to help you check your answers. You will pass the test if there are no errors when you run the test cells. In some cases, the tests are insufficient. That means if you do not pass the test, your answer is definitely wrong somewhere, but if you pass the test, your answer may still be incorrect.\n",
    "\n",
    "While doing the assignment, you should print out the output and create more cells for testing. But you have to remove all of them (comment your print-out codes, delete the cell created by you) when you submit your code. <font color=red>Do not remove or edit my cells</font> (except for the aforementioned cells).\n",
    "\n",
    "Keep your code clean and clear by using meaningful variable names and comments, not write too-long coding lines.\n",
    "Press `Ctrl + S` right after editing.\n",
    "\n",
    "Keep it real: The reason why you are here is to <font color=green>study, really study</font>. I highly recommend that you discuss your idea with your friends and <font color=green>write your own code based on your own knowledge</font>. <font color=red>Copy means zero.</font>\n",
    "\n",
    "**How to submit your assignment**\n",
    "\n",
    "When grading your assignment, I will choose `Kernel` - `Restart & Run All` in order to restart the kernel and run all cells in your notebook. Therefore, you should do that before submitting to ensure that the outputs are all as expected.\n",
    "\n",
    "After that, rename the notebook as `<Student ID>.ipynb`. For example, if your student code is 1234567, then your notebook is `1234567.ipynb`.\n",
    "\n",
    "Finally, submit your notebook file on Moodle. <font color=red>Please strictly follow the submission rules.</font>\n",
    "\n",
    "---"
   ]
  },
  {
   "cell_type": "markdown",
   "id": "59f40065",
   "metadata": {},
   "source": [
    "## 1. Programming environment\n",
    "\n",
    "- You will re-use the Linux environment setup in Lab 0 - WarmUp. Don't forget to start your coding environment (`conda activate min_ds-env`) before doing your assignment.\n",
    "- Use Jupyter notebook or Jupyter lab, <font color=red>not Google Colab</font> (I can not grade you well on Google Colab) to edit your `*.ipynb` file."
   ]
  },
  {
   "cell_type": "code",
   "execution_count": 3,
   "id": "b9130eef",
   "metadata": {},
   "outputs": [
    {
     "data": {
      "text/plain": [
       "'C:\\\\Users\\\\ACER\\\\AppData\\\\Local\\\\Microsoft\\\\WindowsApps\\\\PythonSoftwareFoundation.Python.3.11_qbz5n2kfra8p0\\\\python.exe'"
      ]
     },
     "execution_count": 3,
     "metadata": {},
     "output_type": "execute_result"
    }
   ],
   "source": [
    "import sys\n",
    "sys.executable"
   ]
  },
  {
   "cell_type": "markdown",
   "id": "a2529136",
   "metadata": {},
   "source": [
    "- Import necessary libraries"
   ]
  },
  {
   "cell_type": "code",
   "execution_count": 4,
   "id": "2a8c0627",
   "metadata": {},
   "outputs": [],
   "source": [
    "import datetime\n",
    "# YOUR CODE HERE (OPTION)\n",
    "\n",
    "import os\n",
    "import datetime\n",
    "from datetime import datetime\n",
    "import requests"
   ]
  },
  {
   "cell_type": "markdown",
   "id": "706a3de5",
   "metadata": {},
   "source": [
    "## 2. Data collection\n",
    "\n",
    "- You are required to do the following tasks using Linux command:\n",
    "    - Create a folder named `./data`\n",
    "    - Collect data from the the links that were specified in `links.txt` and save to `./data` using `wget`\n",
    "    - After collecting data, rename your data as `data_2019.csv`, `data_2018.csv` and `guidance.csv` using `mv`\n",
    "    - List all the file contained in `./data` using `ls`"
   ]
  },
  {
   "cell_type": "code",
   "execution_count": 5,
   "id": "eca2bdf3",
   "metadata": {
    "scrolled": true
   },
   "outputs": [
    {
     "name": "stderr",
     "output_type": "stream",
     "text": [
      "--2024-10-21 14:17:40--  https://datamillnorth.org/download/road-traffic-accidents/8e6585f6-e627-4258-b16f-ca3858c0cc67/Traffic%2520accidents_2019_Leeds.csv\n",
      "Resolving datamillnorth.org (datamillnorth.org)... 104.26.5.58, 172.67.68.118, 104.26.4.58, ...\n",
      "Connecting to datamillnorth.org (datamillnorth.org)|104.26.5.58|:443... connected.\n",
      "HTTP request sent, awaiting response... 302 Found\n",
      "Location: /download/2o11d/8e6585f6-e627-4258-b16f-ca3858c0cc67/Traffic%2520accidents_2019_Leeds.csv [following]\n",
      "--2024-10-21 14:17:41--  https://datamillnorth.org/download/2o11d/8e6585f6-e627-4258-b16f-ca3858c0cc67/Traffic%2520accidents_2019_Leeds.csv\n",
      "Reusing existing connection to datamillnorth.org:443.\n",
      "HTTP request sent, awaiting response... 200 OK\n",
      "Length: 143972 (141K) [text/csv]\n",
      "Saving to: ‘data/Traffic accidents_2019_Leeds.csv’\n",
      "\n",
      "     0K .......... .......... .......... .......... .......... 35% 1.29M 0s\n",
      "    50K .......... .......... .......... .......... .......... 71% 1.50M 0s\n",
      "   100K .......... .......... .......... ..........           100% 1.28M=0.1s\n",
      "\n",
      "Last-modified header invalid -- time-stamp ignored.\n",
      "2024-10-21 14:17:42 (1.35 MB/s) - ‘data/Traffic accidents_2019_Leeds.csv’ saved [143972/143972]\n",
      "\n",
      "--2024-10-21 14:17:42--  https://datamillnorth.org/download/road-traffic-accidents/8c100249-09c5-4aac-91c1-9c7c3656892b/RTC%25202018_Leeds.csv\n",
      "Reusing existing connection to datamillnorth.org:443.\n",
      "HTTP request sent, awaiting response... 302 Found\n",
      "Location: /download/2o11d/8c100249-09c5-4aac-91c1-9c7c3656892b/RTC%25202018_Leeds.csv [following]\n",
      "--2024-10-21 14:17:42--  https://datamillnorth.org/download/2o11d/8c100249-09c5-4aac-91c1-9c7c3656892b/RTC%25202018_Leeds.csv\n",
      "Reusing existing connection to datamillnorth.org:443.\n",
      "HTTP request sent, awaiting response... 200 OK\n",
      "Length: 186602 (182K) [text/csv]\n",
      "Saving to: ‘data/RTC 2018_Leeds.csv’\n",
      "\n",
      "     0K .......... .......... .......... .......... .......... 27% 3.54M 0s\n",
      "    50K .......... .......... .......... .......... .......... 54% 2.74M 0s\n",
      "   100K .......... .......... .......... .......... .......... 82% 5.81M 0s\n",
      "   150K .......... .......... .......... ..                   100% 27.7M=0.04s\n",
      "\n",
      "Last-modified header invalid -- time-stamp ignored.\n",
      "2024-10-21 14:17:42 (4.32 MB/s) - ‘data/RTC 2018_Leeds.csv’ saved [186602/186602]\n",
      "\n",
      "--2024-10-21 14:17:42--  https://datamillnorth.org/download/road-traffic-accidents/ffc7c1f3-923e-457f-a014-5b3fa2d24f1c/accidentsguidance.csv\n",
      "Reusing existing connection to datamillnorth.org:443.\n",
      "HTTP request sent, awaiting response... 302 Found\n",
      "Location: /download/2o11d/ffc7c1f3-923e-457f-a014-5b3fa2d24f1c/accidentsguidance.csv [following]\n",
      "--2024-10-21 14:17:43--  https://datamillnorth.org/download/2o11d/ffc7c1f3-923e-457f-a014-5b3fa2d24f1c/accidentsguidance.csv\n",
      "Reusing existing connection to datamillnorth.org:443.\n",
      "HTTP request sent, awaiting response... 200 OK\n",
      "Length: 1769 (1.7K) [text/csv]\n",
      "Saving to: ‘data/accidentsguidance.csv’\n",
      "\n",
      "     0K .                                                     100%  228M=0s\n",
      "\n",
      "Last-modified header invalid -- time-stamp ignored.\n",
      "2024-10-21 14:17:43 (228 MB/s) - ‘data/accidentsguidance.csv’ saved [1769/1769]\n",
      "\n",
      "FINISHED --2024-10-21 14:17:43--\n",
      "Total wall clock time: 2.8s\n",
      "Downloaded: 3 files, 325K in 0.1s (2.22 MB/s)\n"
     ]
    }
   ],
   "source": [
    "# # YOUR CODE HERE\n",
    "!wsl mkdir data\n",
    "!wsl wget -i links.txt -P data/"
   ]
  },
  {
   "cell_type": "code",
   "execution_count": 6,
   "id": "9e264f33",
   "metadata": {},
   "outputs": [
    {
     "name": "stdout",
     "output_type": "stream",
     "text": [
      "data_2018.csv\n",
      "data_2019.csv\n",
      "guidance.csv\n"
     ]
    }
   ],
   "source": [
    "# # YOUR CODE HERE\n",
    "!wsl mv data/accidentsguidance.csv data/guidance.csv\n",
    "!wsl mv data/\"RTC 2018_Leeds.csv\" data/data_2018.csv\n",
    "!wsl mv data/\"Traffic accidents_2019_Leeds.csv\" data/data_2019.csv\n",
    "\n",
    "!wsl ls data/"
   ]
  },
  {
   "cell_type": "markdown",
   "id": "aa3dd33c",
   "metadata": {},
   "source": [
    "## 3. Data exploring & Data preprocessing\n",
    "\n",
    "### 3.0. Read data\n",
    "\n",
    "- First, I suggest you check the downloaded data by yourself before handing on the code. What kind of the data that you have just downloaded? What is the meaning of each file?\n",
    "\n",
    "YOUR ANSWER HERE: They are tabular data, which contain information about traffic accidents in UK from 2018 to 2019. Additionally, there is a file that explains the notions in 2 data files.\n",
    "\n",
    "- After checking the data, design a function named `read_data` with the name of data file as parameter, which returns a dictionary. Each element of this dictionary follows:\n",
    "    - Key: Name of the columns\n",
    "    - Value: Lists which contains the data of the coresponding columns"
   ]
  },
  {
   "cell_type": "code",
   "execution_count": 7,
   "id": "49c58962",
   "metadata": {},
   "outputs": [],
   "source": [
    "def read_data(file_name):\n",
    "    # Khởi tạo dictionary rỗng để lưu dữ liệu\n",
    "    data = {}\n",
    "    \n",
    "    # Mở file với encoding utf-8-sig để đọc được tiếng Việt\n",
    "    with open(file_name, 'r', encoding='utf-8-sig') as file:\n",
    "        # Đọc dòng đầu tiên để lấy tên các cột\n",
    "        headers = file.readline().rstrip().split(',')\n",
    "        \n",
    "        # Khởi tạo list rỗng cho mỗi cột\n",
    "        for header in headers:\n",
    "            data[header] = []\n",
    "            \n",
    "        # Đọc từng dòng dữ liệu\n",
    "        for line in file:\n",
    "            # Tách các giá trị trong dòng\n",
    "            values = line.rstrip().split(',')\n",
    "            # Thêm từng giá trị vào list tương ứng với cột của nó\n",
    "            for header, value in zip(headers, values):\n",
    "                data[header].append(value)\n",
    "                \n",
    "    return data\n",
    "\n",
    "data_2018 = read_data('./data/data_2018.csv')\n",
    "data_2019 = read_data('./data/data_2019.csv')"
   ]
  },
  {
   "cell_type": "code",
   "execution_count": 8,
   "id": "88bcd3c9",
   "metadata": {},
   "outputs": [],
   "source": [
    "# TEST\n",
    "assert set(data_2018.keys()) == set(['Accident Fields_Reference Number', 'Grid Ref: Easting', 'Grid Ref: Northing', 'Number of Vehicles', 'Accident Date', 'Time (24hr)', '1st Road Class', '1st Road Class & No', 'Road Surface', 'Lighting Conditions', 'Weather Conditions', 'Local Authority', 'Vehicle Fields_Reference Number', 'Vehicle Number', 'Type of Vehicle', 'Casualty Fields_Reference Number', 'Casualty Veh No', 'Casualty Class', 'Casualty Severity', 'Sex of Casualty', 'Age of Casualty'])\n",
    "assert set(data_2019.keys()) == set(['Reference Number', 'Grid Ref: Easting', 'Grid Ref: Northing', 'Number of Vehicles', 'Accident Date', 'Time (24hr)', '1st Road Class', '1st Road Class & No', 'Road Surface', 'Lighting Conditions', 'Weather Conditions', 'Local Authority', 'Vehicle Number', 'Type of Vehicle', 'Casualty Class', 'Casualty Severity', 'Sex of Casualty', 'Age of Casualty'])\n",
    "\n",
    "id_col_len = len(data_2018['Accident Fields_Reference Number'])\n",
    "for col_name in data_2018:\n",
    "    assert len(data_2018[col_name]) == id_col_len\n",
    "    \n",
    "id_col_len = len(data_2019['Reference Number'])\n",
    "for col_name in data_2019:\n",
    "    assert len(data_2019[col_name]) == id_col_len"
   ]
  },
  {
   "cell_type": "markdown",
   "id": "d9682b5a",
   "metadata": {},
   "source": [
    "### 3.1. The meaning of each column/row\n",
    "\n",
    "- Please refer to `./data/guidance.csv` in order to get the meaning of each column\n",
    "- Each row corresponds to an accident with a unique reference number\n",
    "- Compute the number of rows and columns and assign to `num_rows_2018`, `num_cols_2018`, `num_rows_2019`, `num_cols_2019`"
   ]
  },
  {
   "cell_type": "code",
   "execution_count": 9,
   "id": "337fe67b",
   "metadata": {},
   "outputs": [],
   "source": [
    "# YOUR CODE HERE\n",
    "# Kiểm tra kích thước dữ liệu cho từng năm, lần lượt là Số lượng tai nạn và số lượng thuộc tính được ghi nhận\n",
    "\n",
    "# Dữ liệu 2018\n",
    "num_rows_2018=len(data_2018['Accident Fields_Reference Number'])\n",
    "num_cols_2018=len(data_2018)                    \n",
    "\n",
    "# Dữ liệu 2019\n",
    "num_rows_2019=len(data_2019['Reference Number'])\n",
    "num_cols_2019=len(data_2019)                                    "
   ]
  },
  {
   "cell_type": "code",
   "execution_count": 10,
   "id": "10d7ccbb",
   "metadata": {},
   "outputs": [],
   "source": [
    "# TEST\n",
    "assert (num_rows_2018, num_cols_2018, num_rows_2019, num_cols_2019) == (1995, 21, 1907, 18)"
   ]
  },
  {
   "cell_type": "markdown",
   "id": "79445930",
   "metadata": {},
   "source": [
    "### 3.2. Duplicated columns\n",
    "\n",
    "- Observe the data in 2018, you can see that columns `Accident Fields_Reference Number`, `Vehicle Fields_Reference Number` and `Casualty Fields_Reference Number` seem to contain quite similar data.\n",
    "\n",
    "- Additionally, columns `Number of Vehicles` and `Vehicle Number` in `data_2018` and `data_2019` also look quite similar.\n",
    "\n",
    "- In order to make sure of these hypothesises, you have to check these columns. Your mission is to design a function named `check_similarity` in order to check the similarity (in percentage) of 2 given columns.\n",
    "- The percentage of similarity is computed by dividing the number of similar samples to total samples. `check_similarity` return a number illustrating the similarity of 2 columns.\n"
   ]
  },
  {
   "cell_type": "code",
   "execution_count": 11,
   "id": "021bf341",
   "metadata": {},
   "outputs": [],
   "source": [
    "def check_similarity(dataset, first_col, second_col):\n",
    "    \n",
    "    # Kiểm tra tồn tại của cột\n",
    "    if (first_col not in dataset.keys()) or (second_col not in dataset.keys()):\n",
    "        return 0\n",
    "        \n",
    "    # Kiểm tra độ dài 2 cột    \n",
    "    if len(dataset[first_col]) != len(dataset[second_col]):\n",
    "        return 0\n",
    "        \n",
    "    # Trường hợp so sánh cùng một cột\n",
    "    if first_col == second_col:\n",
    "        return 1\n",
    "        \n",
    "    # Tính tỉ lệ phần tử giống nhau\n",
    "    length = len(dataset[first_col])\n",
    "    matches = sum(1 for i in range(length) \n",
    "                 if dataset[first_col][i] == dataset[second_col][i])\n",
    "    \n",
    "    return matches/length"
   ]
  },
  {
   "cell_type": "code",
   "execution_count": 12,
   "id": "0151d75e",
   "metadata": {},
   "outputs": [],
   "source": [
    "# TEST\n",
    "assert round(check_similarity(data_2018, 'Accident Fields_Reference Number', 'Vehicle Fields_Reference Number'),5) == 1.\n",
    "assert round(check_similarity(data_2018, 'Accident Fields_Reference Number', 'Casualty Fields_Reference Number'),5) == 1.\n",
    "assert round(check_similarity(data_2018, 'Number of Vehicles', 'Vehicle Number'), 5) == 0.65213\n",
    "assert round(check_similarity(data_2019, 'Number of Vehicles', 'Vehicle Number'), 5) == 0.67541"
   ]
  },
  {
   "cell_type": "markdown",
   "id": "3e2f8541",
   "metadata": {},
   "source": [
    "- Therefore, column `Accident Fields_Reference Number`, `Vehicle Fields_Reference Number` and `Casualty Fields_Reference Number` contain the same data. We have to remove 2 of them.\n",
    "- It could be noise for us to analyze 2 columns with more than 65% similarity, so I also decide to remove `Vehicle Number`.\n",
    "- Since removing an element from a dictionary is a really hard task for beginner, I will help you on that."
   ]
  },
  {
   "cell_type": "code",
   "execution_count": 13,
   "id": "ecbda0b2",
   "metadata": {},
   "outputs": [],
   "source": [
    "del data_2018['Vehicle Fields_Reference Number'], data_2018['Casualty Fields_Reference Number']\n",
    "del data_2019['Vehicle Number'], data_2018['Vehicle Number']"
   ]
  },
  {
   "cell_type": "markdown",
   "id": "e5608af9",
   "metadata": {},
   "source": [
    "### 3.3. Data merging & Data checking\n",
    "\n",
    "- In order for us to conveniently analyze the data, we should merge 2 data sets into 1.\n",
    "- Compare the columns of 2 data sets, you can see that there are some unmergeable columns:\n",
    "    - Column `Casualty Veh No` in `data_2018`: `data_2019` does not have one, so we have to remove this column from `data_2018`\n",
    "    - Column `Accident Fields_Reference Number` in `data_2018` should be changed to `Reference Number`\n",
    "- I will help you on these 2 tasks, then you will merge 2 data sets into `data_18_19`"
   ]
  },
  {
   "cell_type": "code",
   "execution_count": 14,
   "id": "2b6890cb",
   "metadata": {},
   "outputs": [],
   "source": [
    "# delete `Casualty Veh No` in data_2018\n",
    "del data_2018['Casualty Veh No']\n",
    "\n",
    "# rename\n",
    "data_2018['Reference Number'] = data_2018.pop('Accident Fields_Reference Number')"
   ]
  },
  {
   "cell_type": "code",
   "execution_count": 15,
   "id": "21686b56",
   "metadata": {},
   "outputs": [],
   "source": [
    "# TEST\n",
    "assert set(data_2018.keys()) == set(data_2019.keys())"
   ]
  },
  {
   "cell_type": "code",
   "execution_count": 16,
   "id": "5cc2d9e7",
   "metadata": {},
   "outputs": [],
   "source": [
    "# YOUR CODE HERE\n",
    "\n",
    "# Gộp dữ liệu của 2 năm 2018 và 2019\n",
    "data_18_19 = {}\n",
    "\n",
    "# Với mỗi cột trong dữ liệu năm 2019 \n",
    "for column in data_2019.keys():\n",
    "    # Nối dữ liệu của cùng cột từ 2 năm\n",
    "    data_18_19[column] = data_2018[column] + data_2019[column]"
   ]
  },
  {
   "cell_type": "markdown",
   "id": "de119d69",
   "metadata": {},
   "source": [
    "- After merging 2 data sets, you have to check whether there is any duplicated row based on the ID of each case. If there is, it should be removed from the dataset."
   ]
  },
  {
   "cell_type": "code",
   "execution_count": 17,
   "id": "93463312",
   "metadata": {},
   "outputs": [
    {
     "name": "stdout",
     "output_type": "stream",
     "text": [
      "Duplicated rows: True. Number of duplicated rows: 904\n"
     ]
    }
   ],
   "source": [
    "id_col = data_18_19['Reference Number']\n",
    "num_duplicated = len(id_col) - len(set(id_col))\n",
    "\n",
    "print(f'Duplicated rows: {\"True\" if num_duplicated > 0 else \"False\"}. Number of duplicated rows: {num_duplicated}')"
   ]
  },
  {
   "cell_type": "code",
   "execution_count": 18,
   "id": "91d00743",
   "metadata": {},
   "outputs": [],
   "source": [
    "# YOUR CODE HERE\n",
    "\n",
    "# Loại bỏ các dòng trùng lặp dựa trên tên\n",
    "unique_records = {column: [] for column in data_18_19.keys()}\n",
    "processed_names = set()\n",
    "\n",
    "for record in zip(*data_18_19.values()):\n",
    "    name = record[0]\n",
    "    if name not in processed_names:\n",
    "        processed_names.add(name)\n",
    "        for col_index, column in enumerate(data_18_19.keys()):\n",
    "            unique_records[column].append(record[col_index])\n",
    "\n",
    "data_18_19 = unique_records"
   ]
  },
  {
   "cell_type": "code",
   "execution_count": 19,
   "id": "36593124",
   "metadata": {},
   "outputs": [],
   "source": [
    "# TEST\n",
    "assert set(data_18_19.keys()) == set(data_2018.keys())\n",
    "assert len(set(data_18_19['Reference Number'])) == len(data_18_19['Reference Number'])\n",
    "assert len(data_18_19['1st Road Class']) == 2998"
   ]
  },
  {
   "cell_type": "markdown",
   "id": "997ba941",
   "metadata": {},
   "source": [
    "- You also have to check if there is any missing data. For missing data, I suggest you to fill in since there are a lot of methods to handle it. But if the missing data for a column becomes too much (e.g. more than 50%), you should consider to remove the column out of the dataset.\n",
    "\n",
    "- In this assignment, you will check missing data for each column. Result will be stored in a dictionary named `check_missing_data` which the key is column name and the value is `True` (some data is missing), `False` (no missing data)."
   ]
  },
  {
   "cell_type": "code",
   "execution_count": 20,
   "id": "4723c412",
   "metadata": {},
   "outputs": [
    {
     "data": {
      "text/plain": [
       "{'Reference Number': False,\n",
       " 'Grid Ref: Easting': False,\n",
       " 'Grid Ref: Northing': False,\n",
       " 'Number of Vehicles': False,\n",
       " 'Accident Date': False,\n",
       " 'Time (24hr)': False,\n",
       " '1st Road Class': False,\n",
       " '1st Road Class & No': False,\n",
       " 'Road Surface': False,\n",
       " 'Lighting Conditions': False,\n",
       " 'Weather Conditions': False,\n",
       " 'Local Authority': False,\n",
       " 'Type of Vehicle': False,\n",
       " 'Casualty Class': False,\n",
       " 'Casualty Severity': False,\n",
       " 'Sex of Casualty': False,\n",
       " 'Age of Casualty': False}"
      ]
     },
     "execution_count": 20,
     "metadata": {},
     "output_type": "execute_result"
    }
   ],
   "source": [
    "# # YOUR CODE HERE\n",
    "check_missing_data={}\n",
    "for i in data_18_19.keys():\n",
    "    missing_count = sum(1 for value in data_18_19[i] if value is None or value == '')\n",
    "    if missing_count==0:\n",
    "        check_missing_data[i]=False\n",
    "    else:\n",
    "        check_missing_data[i]=True\n",
    "check_missing_data"
   ]
  },
  {
   "cell_type": "code",
   "execution_count": 21,
   "id": "7a19f7ee",
   "metadata": {},
   "outputs": [],
   "source": [
    "# TEST\n",
    "assert set(check_missing_data.keys()) == set(data_18_19.keys())\n",
    "for col in check_missing_data.keys():\n",
    "    assert check_missing_data[col] == False"
   ]
  },
  {
   "cell_type": "markdown",
   "id": "a176b4f5",
   "metadata": {},
   "source": [
    "### 3.4. Data conversion\n",
    "\n",
    "- Obverse the datatype of each column"
   ]
  },
  {
   "cell_type": "code",
   "execution_count": 22,
   "id": "1d1eba91",
   "metadata": {},
   "outputs": [
    {
     "name": "stdout",
     "output_type": "stream",
     "text": [
      "Reference Number          <class 'str'>\n",
      "Grid Ref: Easting         <class 'str'>\n",
      "Grid Ref: Northing        <class 'str'>\n",
      "Number of Vehicles        <class 'str'>\n",
      "Accident Date             <class 'str'>\n",
      "Time (24hr)               <class 'str'>\n",
      "1st Road Class            <class 'str'>\n",
      "1st Road Class & No       <class 'str'>\n",
      "Road Surface              <class 'str'>\n",
      "Lighting Conditions       <class 'str'>\n",
      "Weather Conditions        <class 'str'>\n",
      "Local Authority           <class 'str'>\n",
      "Type of Vehicle           <class 'str'>\n",
      "Casualty Class            <class 'str'>\n",
      "Casualty Severity         <class 'str'>\n",
      "Sex of Casualty           <class 'str'>\n",
      "Age of Casualty           <class 'str'>\n"
     ]
    }
   ],
   "source": [
    "for col in data_18_19.keys():\n",
    "    print(f'{col:25} {type(data_18_19[col][0])}')"
   ]
  },
  {
   "cell_type": "markdown",
   "id": "aa821d4d",
   "metadata": {},
   "source": [
    "- Before moving to analyzing the dataset, the datatype of each column should be correct.\n",
    "- Based on `./data/guidance.csv` and research on the Internet:\n",
    "    - `Grid Ref` values are coordinate location in UK format $\\to$ Datatype: int\n",
    "    - `Number of Vehicles`: int\n",
    "    - `Accident Date`: datetime\n",
    "    - `Time (24hr)`: datetime\n",
    "    - `Age of Casualty`: int\n",
    "    - `1st Road Class`: str\n",
    "    - Rest: str\n",
    "    \n",
    "- In reallife project, you have to convert all columns into their correct datatype before doing anything else. But in this assignment, you are just required to merge `Time (24hr)` and `Accident Date` into column `Full time` with the correct datatype (datetime). After merging, delete `Time (24hr)` and `Accident Date`.\n",
    "    - The format of `Time (24hr)`: `hhmm`\n",
    "    - The format of `Accident Date`: `dd/mm/yyyy`"
   ]
  },
  {
   "cell_type": "code",
   "execution_count": 23,
   "id": "10bb8ea0",
   "metadata": {},
   "outputs": [],
   "source": [
    "# YOUR CODE HERE\n",
    "from datetime import datetime\n",
    "\n",
    "# Tạo cột thời gian đầy đủ bằng cách kết hợp ngày và giờ\n",
    "datetime_values = []\n",
    "record_count = len(data_18_19['Reference Number'])\n",
    "\n",
    "for index in range(record_count):\n",
    "    date_str = data_18_19['Accident Date'][index]\n",
    "    time_str = data_18_19['Time (24hr)'][index]\n",
    "    full_datetime = datetime.strptime(date_str + ' ' + time_str, '%d/%m/%Y %H%M')\n",
    "    datetime_values.append(full_datetime)\n",
    "\n",
    "# Thêm cột mới và xóa các cột cũ\n",
    "data_18_19['Full time'] = datetime_values\n",
    "del data_18_19['Time (24hr)'], data_18_19['Accident Date']"
   ]
  },
  {
   "cell_type": "code",
   "execution_count": 24,
   "id": "3e16a1b0",
   "metadata": {},
   "outputs": [],
   "source": [
    "# TEST\n",
    "assert set(data_18_19.keys()) == set(['Grid Ref: Easting', 'Grid Ref: Northing', 'Number of Vehicles', '1st Road Class', '1st Road Class & No', 'Road Surface', 'Lighting Conditions', 'Weather Conditions', 'Local Authority', 'Type of Vehicle', 'Casualty Class', 'Casualty Severity', 'Sex of Casualty', 'Age of Casualty', 'Reference Number', 'Full time'])\n",
    "assert type(data_18_19['Full time'][0]) == datetime"
   ]
  },
  {
   "cell_type": "markdown",
   "id": "983c1aec",
   "metadata": {},
   "source": [
    "- Looks like values in the `Local Authority` column are all the same\n",
    "- You need to count the number of distinct values of the `Local Authority` column\n",
    "- If all values in the `Local Authority` are the same, delete that column"
   ]
  },
  {
   "cell_type": "code",
   "execution_count": 25,
   "id": "e272e144",
   "metadata": {},
   "outputs": [],
   "source": [
    "# YOUR CODE HERE\n",
    "num_distinct_authority = len(set(data_18_19['Local Authority']))\n",
    "if num_distinct_authority == 1:\n",
    "    del data_18_19['Local Authority']"
   ]
  },
  {
   "cell_type": "code",
   "execution_count": 26,
   "id": "35de2a0e",
   "metadata": {},
   "outputs": [],
   "source": [
    "assert num_distinct_authority == 1\n",
    "assert 'Local Authority' not in data_18_19.keys()"
   ]
  },
  {
   "cell_type": "markdown",
   "id": "7f2d692b",
   "metadata": {},
   "source": [
    "## 4. Questions proposing & answering\n",
    "\n",
    "- In this section, we are going to propose 2 questions that can be answered by data. I will propose 1 question. The other one will be your task.\n",
    "- Note that answering these questions should give us some insight or useful information about traffic in UK.\n",
    "\n",
    "### 4.1. Question #1\n",
    "\n",
    "- How many accidents are there in each day of a week (Mon $\\to$ Sun) and in each hour of a day (0 $\\to$ 23)?\n",
    "- Meaning: Warn people to be careful when participating in traffic during those hours\n",
    "- Answer:\n",
    "    - Firstly, you will create a `matrix_` size $7\\times24$ which each element indicates he number of accidents during a certain hour of a certain day of the week. E.g. `matrix_[1][7]` indicates the number of accidents from 7h00m to 7h59m of Tuesday\n",
    "    - Then, you will fill in the matrix based on the column `Full time` that you have just created\n",
    "    - Finally, I will help you visualize the result"
   ]
  },
  {
   "cell_type": "code",
   "execution_count": 28,
   "id": "4ed813b5",
   "metadata": {},
   "outputs": [
    {
     "data": {
      "text/plain": [
       "[[9,\n",
       "  2,\n",
       "  4,\n",
       "  4,\n",
       "  5,\n",
       "  4,\n",
       "  6,\n",
       "  22,\n",
       "  25,\n",
       "  24,\n",
       "  20,\n",
       "  12,\n",
       "  17,\n",
       "  20,\n",
       "  35,\n",
       "  54,\n",
       "  38,\n",
       "  42,\n",
       "  24,\n",
       "  17,\n",
       "  16,\n",
       "  6,\n",
       "  8,\n",
       "  4],\n",
       " [4,\n",
       "  1,\n",
       "  2,\n",
       "  1,\n",
       "  1,\n",
       "  6,\n",
       "  6,\n",
       "  28,\n",
       "  44,\n",
       "  24,\n",
       "  23,\n",
       "  17,\n",
       "  14,\n",
       "  28,\n",
       "  23,\n",
       "  41,\n",
       "  44,\n",
       "  43,\n",
       "  32,\n",
       "  22,\n",
       "  12,\n",
       "  7,\n",
       "  8,\n",
       "  5],\n",
       " [3,\n",
       "  2,\n",
       "  0,\n",
       "  4,\n",
       "  2,\n",
       "  4,\n",
       "  6,\n",
       "  33,\n",
       "  46,\n",
       "  21,\n",
       "  18,\n",
       "  20,\n",
       "  17,\n",
       "  19,\n",
       "  27,\n",
       "  38,\n",
       "  41,\n",
       "  52,\n",
       "  34,\n",
       "  28,\n",
       "  17,\n",
       "  15,\n",
       "  13,\n",
       "  7],\n",
       " [4,\n",
       "  2,\n",
       "  2,\n",
       "  0,\n",
       "  3,\n",
       "  0,\n",
       "  13,\n",
       "  34,\n",
       "  42,\n",
       "  29,\n",
       "  20,\n",
       "  20,\n",
       "  17,\n",
       "  30,\n",
       "  29,\n",
       "  37,\n",
       "  43,\n",
       "  39,\n",
       "  43,\n",
       "  32,\n",
       "  19,\n",
       "  17,\n",
       "  10,\n",
       "  7],\n",
       " [4,\n",
       "  1,\n",
       "  0,\n",
       "  0,\n",
       "  2,\n",
       "  1,\n",
       "  13,\n",
       "  26,\n",
       "  39,\n",
       "  23,\n",
       "  23,\n",
       "  18,\n",
       "  21,\n",
       "  31,\n",
       "  35,\n",
       "  42,\n",
       "  51,\n",
       "  42,\n",
       "  32,\n",
       "  29,\n",
       "  21,\n",
       "  20,\n",
       "  14,\n",
       "  18],\n",
       " [13,\n",
       "  9,\n",
       "  7,\n",
       "  4,\n",
       "  5,\n",
       "  4,\n",
       "  0,\n",
       "  5,\n",
       "  2,\n",
       "  17,\n",
       "  17,\n",
       "  22,\n",
       "  27,\n",
       "  26,\n",
       "  22,\n",
       "  28,\n",
       "  27,\n",
       "  30,\n",
       "  24,\n",
       "  30,\n",
       "  20,\n",
       "  11,\n",
       "  13,\n",
       "  11],\n",
       " [14,\n",
       "  6,\n",
       "  8,\n",
       "  1,\n",
       "  7,\n",
       "  6,\n",
       "  2,\n",
       "  4,\n",
       "  6,\n",
       "  14,\n",
       "  10,\n",
       "  21,\n",
       "  24,\n",
       "  19,\n",
       "  12,\n",
       "  30,\n",
       "  20,\n",
       "  19,\n",
       "  27,\n",
       "  18,\n",
       "  10,\n",
       "  14,\n",
       "  9,\n",
       "  4]]"
      ]
     },
     "execution_count": 28,
     "metadata": {},
     "output_type": "execute_result"
    }
   ],
   "source": [
    "nrow = 7   # Số hàng cho các ngày trong tuần\n",
    "ncol = 24  # Số cột cho các giờ trong ngày\n",
    "matrix_ = [[0 for _ in range(ncol)] for _ in range(nrow)]\n",
    "\n",
    "for i in data_18_19['Full time']:\n",
    "    row_index = i.weekday()  \n",
    "    col_index = i.hour      \n",
    "    matrix_[row_index][col_index] += 1\n",
    "\n",
    "matrix_"
   ]
  },
  {
   "cell_type": "code",
   "execution_count": 29,
   "id": "51dc1b29",
   "metadata": {},
   "outputs": [
    {
     "data": {
      "text/plain": [
       "Text(0.5, 1.0, 'Thống kê tai nạn tại các khung giờ của các ngày trong tuần')"
      ]
     },
     "execution_count": 29,
     "metadata": {},
     "output_type": "execute_result"
    },
    {
     "data": {
      "image/png": "[encoded data removed]",
      "text/plain": [
       "<Figure size 1000x600 with 2 Axes>"
      ]
     },
     "metadata": {},
     "output_type": "display_data"
    }
   ],
   "source": [
    "# visualize\n",
    "# !pip install seaborn\n",
    "import matplotlib.pyplot as plt\n",
    "import seaborn as sns\n",
    "\n",
    "day_of_week = ['Mon', 'Tue', 'Wed', 'Thu', 'Fri', 'Sat', 'Sun']\n",
    "\n",
    "plt.figure(figsize=(10,6))\n",
    "ax = sns.heatmap(matrix_, linewidths=.5, yticklabels = day_of_week)\n",
    "ax.set_xlabel('Thời gian')\n",
    "ax.set_ylabel('Ngày trong tuần')\n",
    "ax.set_title('Thống kê tai nạn tại các khung giờ của các ngày trong tuần')"
   ]
  },
  {
   "cell_type": "markdown",
   "id": "a88a291e",
   "metadata": {},
   "source": [
    "### 4.2. Question #2\n",
    "\n",
    "YOUR ANSWER HERE\n",
    "\n",
    "- Question: Số lượng tai nạn theo phân loại đường\n",
    "- Meaning: Cho thấy cần gia tăng giám sát, nâng cấp những loại đường nào thường xuyên hơn, từ đó giảm thiểu tai nạn"
   ]
  },
  {
   "cell_type": "markdown",
   "id": "c86bf4c9",
   "metadata": {},
   "source": [
    "Đầu tiên lấy ra các header của dataframe <code><span style=\"color: #e83e8c;\">data_18_19</span></code>."
   ]
  },
  {
   "cell_type": "code",
   "execution_count": 48,
   "id": "3ab5676d",
   "metadata": {},
   "outputs": [
    {
     "data": {
      "text/plain": [
       "Index(['Reference Number', 'Grid Ref: Easting', 'Grid Ref: Northing',\n",
       "       'Number of Vehicles', '1st Road Class', '1st Road Class & No',\n",
       "       'Road Surface', 'Lighting Conditions', 'Weather Conditions',\n",
       "       'Type of Vehicle', 'Casualty Class', 'Casualty Severity',\n",
       "       'Sex of Casualty', 'Age of Casualty', 'Full time'],\n",
       "      dtype='object')"
      ]
     },
     "execution_count": 48,
     "metadata": {},
     "output_type": "execute_result"
    }
   ],
   "source": [
    "# YOUR CODE HERE\n",
    "import pandas as pd\n",
    "import matplotlib.pyplot as plt\n",
    "import seaborn as sns\n",
    "\n",
    "# Convert the dictionary to a DataFrame\n",
    "data_18_19_df = pd.DataFrame(data_18_19)\n",
    "\n",
    "data_18_19_df.columns"
   ]
  },
  {
   "cell_type": "markdown",
   "id": "f374598d",
   "metadata": {},
   "source": [
    "Tiếp theo ta sẽ nhóm các thông tin <code><span style=\"color: #e83e8c;\">1st Road Class</span></code> và <code><span style=\"color: #e83e8c;\">Number of Vehicles</span></code> vào một dataframe."
   ]
  },
  {
   "cell_type": "code",
   "execution_count": 80,
   "id": "ebc7d34b",
   "metadata": {},
   "outputs": [
    {
     "name": "stdout",
     "output_type": "stream",
     "text": [
      "  1st Road Class  Number of Accidents\n",
      "0              1                  213\n",
      "1              2                   74\n",
      "2              3                  896\n",
      "3              4                  122\n",
      "4              5                    6\n",
      "5              6                 1687\n"
     ]
    }
   ],
   "source": [
    "# Nhóm dữ liệu theo loại đường\n",
    "grouped_by_road = data_18_19_df.groupby('1st Road Class')\n",
    "\n",
    "# Đếm số vụ tai nạn trên mỗi loại đường\n",
    "accidents_by_road = grouped_by_road.size().reset_index(name='Number of Accidents')\n",
    "\n",
    "# Hiển thị kết quả\n",
    "print(accidents_by_road)\n"
   ]
  },
  {
   "cell_type": "markdown",
   "id": "d8298db2",
   "metadata": {},
   "source": [
    "Sau đó từ file <code><span style=\"color: #e83e8c;\">data/guidance.csv</span></code>, lấy ra ánh xạ loại đường. Tức là với loại đường được đánh số từ $1$ đến $6$, ta biết được những mã này ứng với loại đường nào."
   ]
  },
  {
   "cell_type": "code",
   "execution_count": 81,
   "id": "01c8c7c8",
   "metadata": {},
   "outputs": [
    {
     "name": "stdout",
     "output_type": "stream",
     "text": [
      "Đang đọc file từ: data/guidance.csv\n",
      "Đọc file thành công\n",
      "\n",
      "Ánh xạ loại đường:\n",
      "1: Motorway\n",
      "2: A(M)\n",
      "3: A\n",
      "4: B\n",
      "5: C\n",
      "6: Unclassified\n"
     ]
    }
   ],
   "source": [
    "def get_road_type_mapping(file_path='data/guidance.csv'):\n",
    "    if not os.path.exists(file_path):\n",
    "        print(f\"Không tìm thấy file tại đường dẫn: {file_path}\")\n",
    "        return None\n",
    "        \n",
    "    print(f\"Đang đọc file từ: {file_path}\")\n",
    "    \n",
    "    try:\n",
    "        # Đọc file CSV với encoding latin1 vì unicode đọc bị lỗi \n",
    "        df = pd.read_csv(file_path, header=None, encoding='latin1')\n",
    "\n",
    "        print(\"Đọc file thành công\")\n",
    "        \n",
    "        # Tạo ánh xạ loại đường\n",
    "        road_type_mapping = {}\n",
    "\n",
    "        # Tìm chỉ số của dòng bắt đầu và kết thúc cho phần \"1st Road Class\"\n",
    "        start_index = df.index[df[0] == '1st Road Class'][0] + 1\n",
    "        end_index = df.index[df[0] == 'Road Surface'][0]\n",
    "        \n",
    "        # Lặp qua từng dòng trong khoảng đã xác định\n",
    "        for i in range(start_index, end_index):\n",
    "            code = df.iloc[i, 0]\n",
    "            desc = df.iloc[i, 1]\n",
    "            \n",
    "            # Kiểm tra nếu giá trị không phải NaN và không rỗng\n",
    "            if pd.notna(code) and pd.notna(desc):\n",
    "                road_type_mapping[str(code).strip()] = str(desc).strip()\n",
    "        \n",
    "        return road_type_mapping\n",
    "            \n",
    "    except Exception as e:\n",
    "        print(f\"Lỗi: {str(e)}\")\n",
    "        return None\n",
    "\n",
    "mapping = get_road_type_mapping()\n",
    "\n",
    "if mapping:\n",
    "    print(\"\\nÁnh xạ loại đường:\")\n",
    "    for code, desc in sorted(mapping.items()):\n",
    "        print(f\"{code}: {desc}\")\n",
    "else:\n",
    "    print(\"\\nKhông thể tạo được ánh xạ loại đường\")\n"
   ]
  },
  {
   "cell_type": "code",
   "execution_count": 82,
   "id": "18cbf82e",
   "metadata": {},
   "outputs": [
    {
     "name": "stderr",
     "output_type": "stream",
     "text": [
      "C:\\Users\\ACER\\AppData\\Local\\Temp\\ipykernel_6212\\3328308098.py:17: FutureWarning: \n",
      "\n",
      "Passing `palette` without assigning `hue` is deprecated and will be removed in v0.14.0. Assign the `x` variable to `hue` and set `legend=False` for the same effect.\n",
      "\n",
      "  ax = sns.barplot(data=result_df, x='1st Road Class', y='Number of Vehicles', palette='husl')\n"
     ]
    },
    {
     "data": {
      "image/png": "[encoded data removed]",
      "text/plain": [
       "<Figure size 1200x600 with 1 Axes>"
      ]
     },
     "metadata": {},
     "output_type": "display_data"
    }
   ],
   "source": [
    "import matplotlib.pyplot as plt\n",
    "import seaborn as sns\n",
    "\n",
    "plt.figure(figsize=(12, 6))\n",
    "\n",
    "# Ánh xạ loại đường\n",
    "road_types = {\n",
    "    '1': 'Motorway',\n",
    "    '2': 'A (M)',\n",
    "    '3': 'A Road',\n",
    "    '4': 'B Road',\n",
    "    '5': 'C Road',\n",
    "    '6': 'Unclassified'\n",
    "}\n",
    "\n",
    "# Sử dụng seaborn để vẽ biểu đồ cột\n",
    "ax = sns.barplot(data=result_df, x='1st Road Class', y='Number of Vehicles', palette='husl')\n",
    "\n",
    "# Thêm giá trị lên đầu cột\n",
    "for i in ax.containers:\n",
    "    ax.bar_label(i, padding=3)\n",
    "\n",
    "# Thêm tiêu đề và nhãn\n",
    "plt.title('Số lượng tai nạn theo phân loại đường', pad=20, size=14)\n",
    "plt.xlabel('Phân loại đường', labelpad=10)\n",
    "plt.ylabel('Số lượng tai nạn', labelpad=10)\n",
    "\n",
    "# Thêm lưới \n",
    "plt.grid(axis='y', linestyle='--', alpha=0.7)\n",
    "\n",
    "# Cập nhật nhãn trục x\n",
    "current_labels = [road_types.get(str(x), f'Type {x}') for x in result_df['1st Road Class']]\n",
    "plt.xticks(range(len(current_labels)), current_labels, rotation=45)\n",
    "\n",
    "plt.tight_layout()\n",
    "plt.show()"
   ]
  },
  {
   "cell_type": "markdown",
   "id": "bd347285",
   "metadata": {},
   "source": [
    "> Nhận xét: Từ biểu đồ, và dataframe lấy từ $3$ thuộc tính <code><span style=\"color: #e83e8c;\">1st Road Class</span></code> và <code><span style=\"color: #e83e8c;\">Number of Vehicles</span></code> lấy từ dataframe <code><span style=\"color: #e83e8c;\">data_18_19</span></code>, ta rút ra được một số góc nhìn sau:\n",
    "1. Loại đường đánh số $6$, hay loại Unclassified có số vụ tai nạn lớn nhất: $1687$. Trong thực tế em tìm hiểu được, số lượng đường \"Unclassified\" có thể chiếm một phần lớn trong hệ thống giao thông của một khu vực, đặc biệt là ở các vùng nông thôn hoặc ngoại ô, nơi các đường này chưa được phân loại hoặc nâng cấp thành các đường chính thức.\n",
    "- Thường thì các đường này không được thiết kế chuẩn mực và có thể có điều kiện đường xá, ánh sáng hoặc biển báo không tốt. Ngoài ra, chúng có thể thường xuyên được sử dụng bởi nhiều loại phương tiện khác nhau, dẫn đến sự phức tạp và tăng khả năng xảy ra tai nạn.\n",
    "- Do đó những cơ quan có chức năng nên quan tâm thêm việc bảo trì, nâng cấp các điều kiện tham gia giao thông ở những con đường này.\n",
    "\n",
    "2. Loại đường đánh số $3$, hay loại $A$ có số vụ tai nạn cũng tương đối lớn hơn nhiều so với phần còn lại, với tổng cộng $896$ vụ tai nạn trong khoảng thời gian thống kê. Đây là một loại đường lớn, thường có nhiều làn xe và kết nối các khu vực quan trọng như thành phố lớn, thị trấn hoặc các cảng biển, sân bay. Loại này thường cũng là đường chính nhưng không nhất thiết phải có tiêu chuẩn cao như đường cao tốc. A Road thường có giao lộ, đèn giao thông và có thể có lưu lượng xe cao. \n",
    "- Dù được bảo trì và quản lý tốt hơn các loại đường về sau như $B$, $C$, Unclassified, sự lưu thông cao và tốc độ di chuyển nhanh hơn cũng làm tăng nguy cơ tai nạn. Đường lớn đồng nghĩa với việc tai nạn có thể nghiêm trọng hơn.\n",
    "- Thế có thể thắc mắc tại sao đường motorway (cao tốc) và $A (M)$ lại ít vụ tai nạn hơn đáng kể? Có thể lý giải do những loại đường đó thường có tiêu chuẩn an toàn rất cao, với nhiều làn xe, rào chắn và hệ thống giao thông thông minh. Điều này giúp giảm thiểu tai nạn. Nhưng cũng có thể do điều kiện lái xe trên đường này là tốt hơn, ít giao cắt và không có người đi bộ hay phương tiện chậm hơn. Dù vậy, khi xảy ra tai nạn trên những đường này thì hậu quả thường nghiêm trọng hơn. \n",
    "\n",
    "3. Loại đường đánh số $5$, hay loại $C$ có số vụ tai nạn thấp nhất, cũng là con số thấp rất đáng kể so với những loại đường khác: 6 vụ tai nạn. Đường loại $C$ thường là những đường rất nhỏ và ít quan trọng hơn so với loại $B$ mà đa số chúng ta đi hằng ngày. Chúng thường kết nối các làng, khu dân cư hoặc những khu vực ít đông đúc. Hãy tưởng tượng đi đường ở quê, có rất ít phương tiện di chuyển cùng lúc nên nguy cơ va chạm rất nhỏ. Những con đường này cũng có thể có tốc độ tối đa thấp hơn nhiều, do đường xá gập ghềnh, khó đi, phải đi rất cẩn thận. Điều này phần nào dẫn đến ít tai nạn nghiêm trọng hơn."
   ]
  }
 ],
 "metadata": {
  "kernelspec": {
   "display_name": "Python 3",
   "language": "python",
   "name": "python3"
  },
  "language_info": {
   "codemirror_mode": {
    "name": "ipython",
    "version": 3
   },
   "file_extension": ".py",
   "mimetype": "text/x-python",
   "name": "python",
   "nbconvert_exporter": "python",
   "pygments_lexer": "ipython3",
   "version": "3.11.9"
  },
  "varInspector": {
   "cols": {
    "lenName": 16,
    "lenType": 16,
    "lenVar": 40
   },
   "kernels_config": {
    "python": {
     "delete_cmd_postfix": "",
     "delete_cmd_prefix": "del ",
     "library": "var_list.py",
     "varRefreshCmd": "print(var_dic_list())"
    },
    "r": {
     "delete_cmd_postfix": ") ",
     "delete_cmd_prefix": "rm(",
     "library": "var_list.r",
     "varRefreshCmd": "cat(var_dic_list()) "
    }
   },
   "types_to_exclude": [
    "module",
    "function",
    "builtin_function_or_method",
    "instance",
    "_Feature"
   ],
   "window_display": false
  }
 },
 "nbformat": 4,
 "nbformat_minor": 5
}
