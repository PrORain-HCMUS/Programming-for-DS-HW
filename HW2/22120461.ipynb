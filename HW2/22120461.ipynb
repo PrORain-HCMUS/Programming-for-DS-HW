{
 "cells": [
  {
   "cell_type": "markdown",
   "metadata": {
    "id": "8RoEfRrelybw"
   },
   "source": [
    "## Import các thư viện cần thiết"
   ]
  },
  {
   "cell_type": "code",
   "execution_count": 1,
   "metadata": {
    "id": "Z1-aBQDblybx"
   },
   "outputs": [],
   "source": [
    "import datetime as dt # Để làm việc với dữ liệu datetime\n",
    "import math"
   ]
  },
  {
   "cell_type": "markdown",
   "metadata": {
    "id": "_4QCpAXJlybx"
   },
   "source": [
    "## Đưa ra câu hỏi cần trả lời"
   ]
  },
  {
   "cell_type": "markdown",
   "metadata": {
    "id": "nGp5LB0ylyby"
   },
   "source": [
    "Tình trạng hiểu về Python các bạn trong lớp?"
   ]
  },
  {
   "cell_type": "markdown",
   "metadata": {
    "id": "0WM5FscAlyby"
   },
   "source": [
    "## Thu thập dữ liệu"
   ]
  },
  {
   "cell_type": "markdown",
   "metadata": {
    "id": "cbGcmSiwlyby"
   },
   "source": [
    "Cho làm quiz về Python trên moodle.\n",
    "\n",
    "Kết quả có thể được download về dưới dạng file .csv."
   ]
  },
  {
   "cell_type": "markdown",
   "metadata": {
    "id": "hYIB4jTjlyby"
   },
   "source": [
    "## Khám phá dữ liệu"
   ]
  },
  {
   "cell_type": "code",
   "execution_count": 2,
   "metadata": {
    "colab": {
     "base_uri": "https://localhost:8080/",
     "height": 216
    },
    "id": "McEov5Jslyby",
    "outputId": "d1cee68b-882b-47a4-9159-039706adc0b8"
   },
   "outputs": [
    {
     "data": {
      "text/plain": [
       "dict_keys(['State', 'Started on', 'Completed', 'Time taken', 'Grade/10.00', 'Q. 1 /0.53', 'Q. 2 /0.53', 'Q. 3 /0.53', 'Q. 4 /0.53', 'Q. 5 /0.53', 'Q. 6 /0.53', 'Q. 7 /0.53', 'Q. 8 /0.53', 'Q. 9 /0.53', 'Q. 10 /0.53', 'Q. 11 /0.53', 'Q. 12 /0.53', 'Q. 13 /0.53', 'Q. 14 /0.53', 'Q. 15 /0.53', 'Q. 16 /0.53', 'Q. 17 /0.53', 'Q. 18 /0.53', 'Q. 19 /0.53'])"
      ]
     },
     "execution_count": 2,
     "metadata": {},
     "output_type": "execute_result"
    }
   ],
   "source": [
    "file = open('PythonQuiz_2024_CQ.csv', 'r', encoding='utf-8-sig')\n",
    "\n",
    "cols = {}\n",
    "first_line_vals = file.readline().rstrip().split(',')\n",
    "for first_line_val in first_line_vals:\n",
    "    cols[first_line_val] = []\n",
    "for line in file:\n",
    "    line_vals = line.rstrip().split(',')\n",
    "    if line_vals[0]!='Never submitted':\n",
    "        for i in range(len(line_vals)):\n",
    "            cols[first_line_vals[i]].append(line_vals[i])\n",
    "\n",
    "file.close()\n",
    "\n",
    "cols.keys()"
   ]
  },
  {
   "cell_type": "markdown",
   "metadata": {
    "id": "nZ9wCTS1lybz"
   },
   "source": [
    "### Dữ liệu có bao nhiêu dòng và bao nhiêu cột?"
   ]
  },
  {
   "cell_type": "code",
   "execution_count": 3,
   "metadata": {
    "id": "94pVvTVNlybz"
   },
   "outputs": [
    {
     "data": {
      "text/plain": [
       "dict_keys(['State', 'Started on', 'Completed', 'Time taken', 'Grade/10.00', 'Q. 1 /0.53', 'Q. 2 /0.53', 'Q. 3 /0.53', 'Q. 4 /0.53', 'Q. 5 /0.53', 'Q. 6 /0.53', 'Q. 7 /0.53', 'Q. 8 /0.53', 'Q. 9 /0.53', 'Q. 10 /0.53', 'Q. 11 /0.53', 'Q. 12 /0.53', 'Q. 13 /0.53', 'Q. 14 /0.53', 'Q. 15 /0.53', 'Q. 16 /0.53', 'Q. 17 /0.53', 'Q. 18 /0.53', 'Q. 19 /0.53'])"
      ]
     },
     "execution_count": 3,
     "metadata": {},
     "output_type": "execute_result"
    }
   ],
   "source": [
    "cols.keys()"
   ]
  },
  {
   "cell_type": "code",
   "execution_count": 4,
   "metadata": {
    "id": "iCH3pT1jlybz"
   },
   "outputs": [
    {
     "data": {
      "text/plain": [
       "66"
      ]
     },
     "execution_count": 4,
     "metadata": {},
     "output_type": "execute_result"
    }
   ],
   "source": [
    "# Số dòng\n",
    "len(cols['State'])"
   ]
  },
  {
   "cell_type": "code",
   "execution_count": 5,
   "metadata": {
    "id": "y33n13f1lyb0"
   },
   "outputs": [
    {
     "data": {
      "text/plain": [
       "24"
      ]
     },
     "execution_count": 5,
     "metadata": {},
     "output_type": "execute_result"
    }
   ],
   "source": [
    "# Số cột\n",
    "len(cols)"
   ]
  },
  {
   "cell_type": "markdown",
   "metadata": {
    "id": "dMxBrLPtlyb0"
   },
   "source": [
    "### Mỗi dòng có ý nghĩa gì? Có vấn đề các dòng có ý nghĩa khác nhau không?"
   ]
  },
  {
   "cell_type": "markdown",
   "metadata": {
    "id": "7PaPFgQclyb0"
   },
   "source": [
    "Mỗi dòng ứng với kết quả làm quiz của một sinh viên.\n",
    "\n",
    "Xem qua bảng dữ liệu của file csv thì có vẻ không thấy có dòng nào \"lạc loài\" (thật ra dữ liệu ban đầu là có dòng cuối là dòng tính điểm trung bình của các cột, nhưng mình đã bỏ đi rồi)."
   ]
  },
  {
   "cell_type": "markdown",
   "metadata": {
    "id": "WxVHvtbzlyb0"
   },
   "source": [
    "### Dữ liệu có các dòng bị lặp không?"
   ]
  },
  {
   "cell_type": "markdown",
   "metadata": {
    "id": "hxQOpPY_lyb0"
   },
   "source": [
    "Xem qua bảng dữ liệu của file csv thì có vẻ không thấy có vấn đề một sinh viên xuất hiện nhiều hơn một lần."
   ]
  },
  {
   "cell_type": "markdown",
   "metadata": {
    "id": "kVlcOG58lyb0"
   },
   "source": [
    "### Mỗi cột có ý nghĩa gì?"
   ]
  },
  {
   "cell_type": "markdown",
   "metadata": {
    "id": "iob9E_-mlyb0"
   },
   "source": [
    "- Cột \"State\": cho biết trạng thái làm bài, chẳng hạn \"Finished\" là đã nộp bài (đã ấn nút \"submit all and finish\")\n",
    "- 3 cột \"Started on\", \"Completed\", \"Time taken\": lần lượt cho biết thời điểm bắt đầu làm, thời điểm làm xong, và thời gian từ khi bắt đầu làm cho tới khi làm xong\n",
    "- Cột \"Grade/16.00\": cho biết điểm tổng (tối đa là 16, vì có 16 câu và mỗi câu 1 điểm)\n",
    "- 16 cột còn lại \"Q. 1 /1.00\", \"Q. 2 /1.00\", ...: cho biết điểm của mỗi câu quiz (mỗi câu làm đúng hoàn toàn thì sẽ được 1 điểm)"
   ]
  },
  {
   "cell_type": "markdown",
   "metadata": {
    "id": "D-qxam8jlyb1"
   },
   "source": [
    "### Mỗi cột hiện đang có kiểu dữ liệu gì? Có cột nào có kiểu dữ liệu chưa phù hợp để có thể xử lý tiếp không?"
   ]
  },
  {
   "cell_type": "code",
   "execution_count": 6,
   "metadata": {
    "id": "dlZxgBwjlyb1"
   },
   "outputs": [
    {
     "name": "stdout",
     "output_type": "stream",
     "text": [
      "State <class 'str'>\n",
      "Started on <class 'str'>\n",
      "Completed <class 'str'>\n",
      "Time taken <class 'str'>\n",
      "Grade/10.00 <class 'str'>\n",
      "Q. 1 /0.53 <class 'str'>\n",
      "Q. 2 /0.53 <class 'str'>\n",
      "Q. 3 /0.53 <class 'str'>\n",
      "Q. 4 /0.53 <class 'str'>\n",
      "Q. 5 /0.53 <class 'str'>\n",
      "Q. 6 /0.53 <class 'str'>\n",
      "Q. 7 /0.53 <class 'str'>\n",
      "Q. 8 /0.53 <class 'str'>\n",
      "Q. 9 /0.53 <class 'str'>\n",
      "Q. 10 /0.53 <class 'str'>\n",
      "Q. 11 /0.53 <class 'str'>\n",
      "Q. 12 /0.53 <class 'str'>\n",
      "Q. 13 /0.53 <class 'str'>\n",
      "Q. 14 /0.53 <class 'str'>\n",
      "Q. 15 /0.53 <class 'str'>\n",
      "Q. 16 /0.53 <class 'str'>\n",
      "Q. 17 /0.53 <class 'str'>\n",
      "Q. 18 /0.53 <class 'str'>\n",
      "Q. 19 /0.53 <class 'str'>\n"
     ]
    }
   ],
   "source": [
    "for col_name, col_vals in cols.items():\n",
    "    print(f'{col_name} {type(col_vals[0])}')"
   ]
  },
  {
   "cell_type": "markdown",
   "metadata": {
    "id": "LBQHQUWulyb1"
   },
   "source": [
    "Đúng như dự đoán, tất cả các cột đều đang có kiểu dữ liệu là str. Để có thể tiếp tục khám phá tiếp thì ta cần tiền xử lý để các cột có kiểu dữ liệu phù hợp.\n",
    "\n",
    "- Cột \"State\": string là đúng rồi, không cần chuyển\n",
    "- Cột \"Started on\" và \"Completed on\": chuyển sang kiểu dữ liệu datetime\n",
    "- Cột \"Time taken\": chuyển sang một con số thể hiện cho số phút\n",
    "- Các cột \"Grade/16.00\", \"Q. 1 /1.00\", ...: chuyển sang kiểu dữ liệu số"
   ]
  },
  {
   "cell_type": "markdown",
   "metadata": {
    "id": "sBLXMG2Blyb1"
   },
   "source": [
    "## Tiền xử lý"
   ]
  },
  {
   "cell_type": "code",
   "execution_count": 7,
   "metadata": {
    "id": "j-wYzxgalyb1"
   },
   "outputs": [],
   "source": [
    "from datetime import datetime\n",
    "new_cols = {}\n",
    "for col_name, col_vals in cols.items():\n",
    "    if '/' in col_name:\n",
    "        new_col_vals = []\n",
    "        for col_val in col_vals:\n",
    "            new_col_vals.append(float(col_val))\n",
    "        new_cols[col_name] = new_col_vals\n",
    "    elif col_name in ['Started on', 'Completed']:\n",
    "        new_col_vals = []\n",
    "        for col_val in col_vals:\n",
    "            new_col_val = datetime.strptime(col_val, '%d/%m/%Y %H:%M')\n",
    "            new_col_vals.append(new_col_val)\n",
    "        new_cols[col_name] = new_col_vals\n",
    "    elif col_name == 'Time taken':\n",
    "        new_col_vals = []\n",
    "        for col_val in col_vals:\n",
    "            hour = 0; minute = 0; second = 0\n",
    "            temp_list = col_val.split(' ')\n",
    "            for temp_i in range(len(temp_list)):\n",
    "                if 'hour' in temp_list[temp_i]:\n",
    "                    hour = int(temp_list[temp_i - 1])\n",
    "                elif 'min' in temp_list[temp_i]:\n",
    "                    minute = int(temp_list[temp_i - 1])\n",
    "                elif 'sec' in temp_list[temp_i]:\n",
    "                    second = int(temp_list[temp_i - 1])\n",
    "            new_col_val = hour * 60 + minute + second / 60\n",
    "            new_col_vals.append(new_col_val)\n",
    "        new_cols[col_name] = new_col_vals\n",
    "    else:\n",
    "        new_cols[col_name] = col_vals"
   ]
  },
  {
   "cell_type": "code",
   "execution_count": 8,
   "metadata": {
    "id": "NxJ9_SVSlyb1"
   },
   "outputs": [],
   "source": [
    "cols = new_cols"
   ]
  },
  {
   "cell_type": "code",
   "execution_count": 9,
   "metadata": {
    "id": "87ApgNG3lyb1"
   },
   "outputs": [
    {
     "name": "stdout",
     "output_type": "stream",
     "text": [
      "State <class 'str'>\n",
      "Started on <class 'datetime.datetime'>\n",
      "Completed <class 'datetime.datetime'>\n",
      "Time taken <class 'float'>\n",
      "Grade/10.00 <class 'float'>\n",
      "Q. 1 /0.53 <class 'float'>\n",
      "Q. 2 /0.53 <class 'float'>\n",
      "Q. 3 /0.53 <class 'float'>\n",
      "Q. 4 /0.53 <class 'float'>\n",
      "Q. 5 /0.53 <class 'float'>\n",
      "Q. 6 /0.53 <class 'float'>\n",
      "Q. 7 /0.53 <class 'float'>\n",
      "Q. 8 /0.53 <class 'float'>\n",
      "Q. 9 /0.53 <class 'float'>\n",
      "Q. 10 /0.53 <class 'float'>\n",
      "Q. 11 /0.53 <class 'float'>\n",
      "Q. 12 /0.53 <class 'float'>\n",
      "Q. 13 /0.53 <class 'float'>\n",
      "Q. 14 /0.53 <class 'float'>\n",
      "Q. 15 /0.53 <class 'float'>\n",
      "Q. 16 /0.53 <class 'float'>\n",
      "Q. 17 /0.53 <class 'float'>\n",
      "Q. 18 /0.53 <class 'float'>\n",
      "Q. 19 /0.53 <class 'float'>\n"
     ]
    }
   ],
   "source": [
    "for col_name, col_vals in cols.items():\n",
    "    print(f'{col_name} {type(col_vals[0])}')"
   ]
  },
  {
   "cell_type": "markdown",
   "metadata": {
    "id": "0BRZGC9Wlyb2"
   },
   "source": [
    "## Khám phá dữ liệu"
   ]
  },
  {
   "cell_type": "markdown",
   "metadata": {
    "id": "Q_AdOaBClyb2"
   },
   "source": [
    "### Với mỗi cột có kiểu dữ liệu dạng số (numerical), các giá trị được phân bố như thế nào?\n",
    "\n",
    "- Số-lượng/tỉ-lệ các giá trị thiếu?\n",
    "- Min? max? $\\to$ Có gì bất thường không?"
   ]
  },
  {
   "cell_type": "markdown",
   "metadata": {
    "id": "0KPCMZPAlyb2"
   },
   "source": [
    "Ta thấy: cột \"Started on\" và \"Completed\" có kiểu dữ liệu datetime nhưng cũng có thể cho gia nhập hội numeric và tính min & max luôn.\n",
    "\n",
    "Số-lượng/tỉ-lệ các giá trị thiếu? Không có giá trị thiếu.\n",
    "\n",
    "Min? Max?"
   ]
  },
  {
   "cell_type": "code",
   "execution_count": 10,
   "metadata": {
    "id": "ODvzJzYnlyb2"
   },
   "outputs": [
    {
     "name": "stdout",
     "output_type": "stream",
     "text": [
      "Started on\t2024-09-30 12:56:00\t2024-10-05 23:16:00\n",
      "Completed\t2024-09-30 13:52:00\t2024-10-05 23:48:00\n",
      "Time taken\t0.0\t1380.0\n",
      "Grade/10.00\t3.95\t10.0\n",
      "Q. 1 /0.53\t0.26\t0.53\n",
      "Q. 2 /0.53\t0.0\t0.53\n",
      "Q. 3 /0.53\t0.0\t0.53\n",
      "Q. 4 /0.53\t0.0\t0.53\n",
      "Q. 5 /0.53\t0.0\t0.53\n",
      "Q. 6 /0.53\t0.0\t0.53\n",
      "Q. 7 /0.53\t0.0\t0.53\n",
      "Q. 8 /0.53\t0.26\t0.53\n",
      "Q. 9 /0.53\t0.0\t0.53\n",
      "Q. 10 /0.53\t0.26\t0.53\n",
      "Q. 11 /0.53\t0.0\t0.53\n",
      "Q. 12 /0.53\t0.0\t0.53\n",
      "Q. 13 /0.53\t0.0\t0.53\n",
      "Q. 14 /0.53\t0.0\t0.53\n",
      "Q. 15 /0.53\t0.0\t0.53\n",
      "Q. 16 /0.53\t0.0\t0.53\n",
      "Q. 17 /0.53\t0.0\t0.53\n",
      "Q. 18 /0.53\t0.0\t0.53\n",
      "Q. 19 /0.53\t0.0\t0.53\n"
     ]
    }
   ],
   "source": [
    "for col_name, col_vals in cols.items():\n",
    "    if type(col_vals[0]) != str:\n",
    "        print(f'{col_name}\\t{min(col_vals)}\\t{max(col_vals)}')"
   ]
  },
  {
   "cell_type": "markdown",
   "metadata": {
    "id": "5bpSeAV3lyb2"
   },
   "source": [
    "Có vẻ không có gì bất thường."
   ]
  },
  {
   "cell_type": "markdown",
   "metadata": {
    "id": "P5Om-zXqlyb2"
   },
   "source": [
    "### Với mỗi cột có kiểu dữ liệu dạng phân loại (categorical), các giá trị được phân bố như thế nào?\n",
    "\n",
    "- Số-lượng/tỉ-lệ các giá trị thiếu?\n",
    "- Số lượng các giá trị khác nhau? Show một vài giá trị \\\n",
    "$\\to$ Có gì bất thường không?"
   ]
  },
  {
   "cell_type": "markdown",
   "metadata": {
    "id": "swNn9OZllyb2"
   },
   "source": [
    "Hội này chỉ có một thành viên là cột \"State\"!\n",
    "\n",
    "Số-lượng/tỉ-lệ các giá trị thiếu? Không có giá trị thiếu.\n",
    "\n",
    "Số lượng các giá trị khác nhau? Show một vài giá trị"
   ]
  },
  {
   "cell_type": "code",
   "execution_count": 11,
   "metadata": {
    "id": "BwsvVFCWlyb2"
   },
   "outputs": [
    {
     "name": "stdout",
     "output_type": "stream",
     "text": [
      "State\t1\t{'Finished'}\n"
     ]
    }
   ],
   "source": [
    "for col_name, col_vals in cols.items():\n",
    "    if type(col_vals[0]) == str:\n",
    "        col_vals_set = set(col_vals)\n",
    "        print(f'{col_name}\\t{len(col_vals_set)}\\t{col_vals_set}')"
   ]
  },
  {
   "cell_type": "markdown",
   "metadata": {
    "id": "HsqmUDQklyb3"
   },
   "source": [
    "Có vẻ không có gì bất thường."
   ]
  },
  {
   "cell_type": "markdown",
   "metadata": {
    "id": "GiSgyas_lyb3"
   },
   "source": [
    "## Đưa ra câu hỏi cần trả lời"
   ]
  },
  {
   "cell_type": "markdown",
   "metadata": {
    "id": "D73Cyjp-lyb3"
   },
   "source": [
    "Sau khi đã hiểu hơn về dữ liệu, ta sẽ quay lại bước đưa ra câu hỏi cần trả lời: tinh chỉnh câu hỏi, hoặc có thể đưa ra thêm các câu hỏi mới.\n",
    "\n",
    "Câu hỏi “tình trạng hiểu về Python của các bạn trong lớp?” có thể được cụ thể hóa ra thành 2 câu hỏi:\n",
    "\n",
    "1. Cột điểm tổng “Grade/16.00” có phân bố các giá trị như thế nào?\n",
    "2. Câu quiz nào có nhiều bạn làm sai nhất, câu nào có nhiều bạn làm sai nhì, ...?"
   ]
  },
  {
   "cell_type": "markdown",
   "metadata": {
    "id": "rQfJXI5_lyb3"
   },
   "source": [
    "## Tiền xử lý + phân tích dữ liệu để trả lời cho câu hỏi 1"
   ]
  },
  {
   "cell_type": "markdown",
   "metadata": {
    "id": "c7_s_Svllyb3"
   },
   "source": [
    "*Câu hỏi 1: Cột điểm tổng “Grade/16.00” có phân bố các giá trị như thế nào?*\n",
    "\n",
    "Ở đây không cần tiền xử lý mà sẽ đi luôn vào phân tích dữ liệu.\n",
    "\n",
    "Đầu tiên, ta sẽ xem thử median của cột \"Grade/16.00\"."
   ]
  },
  {
   "cell_type": "code",
   "execution_count": 12,
   "metadata": {
    "id": "IS1ohS-Glyb6"
   },
   "outputs": [
    {
     "data": {
      "text/plain": [
       "8.95"
      ]
     },
     "execution_count": 12,
     "metadata": {},
     "output_type": "execute_result"
    }
   ],
   "source": [
    "grades = cols['Grade/10.00']\n",
    "sorted_grades = sorted(grades)\n",
    "p = 50\n",
    "i = int(p/100 * (len(sorted_grades)-1))\n",
    "sorted_grades[i]"
   ]
  },
  {
   "cell_type": "markdown",
   "metadata": {
    "id": "PSOZLYcglyb6"
   },
   "source": [
    "Để cảm thụ rõ hơn về phân bố các giá trị của cột \"Grade/16.00\", ta sẽ chia miền giá trị của cột này thành các khoảng (bin) và xem thử mỗi khoảng có bao nhiêu sinh viên.\n",
    "\n",
    "Giả sử ta sẽ chia đoạn [0, 16] thành 4 bin như sau: [0, 4], (4, 8], (8, 12], (12, 16]. Ta có thể lưu kết quả vào một dictionary, trong đó: key là một tuple cho biết 2 đầu của một bin (thay tuple bằng list thì có được không?), value là số lượng sinh viên rơi vào bin này.\n",
    "\n",
    "***Sinh viên hoàn thành tiếp phần này như bài tập về nhà***"
   ]
  },
  {
   "cell_type": "markdown",
   "metadata": {},
   "source": [
    "Key là một <code><span style=\"color: #e83e8c;\">tuple</span></code> cho biết 2 đầu của một bin. Mà key phải bất biến nên không thể thay <code><span style=\"color: #e83e8c;\">tuple</span></code> bằng <code><span style=\"color: #e83e8c;\">list</span></code>. Lý do <code><span style=\"color: #e83e8c;\">list</span></code> không thể được sử dụng trực tiếp làm key của <code><span style=\"color: #e83e8c;\">dictionary</span></code> vì <code><span style=\"color: #e83e8c;\">list</span></code> là mutable (có thể thay đổi)"
   ]
  },
  {
   "cell_type": "code",
   "execution_count": 16,
   "metadata": {},
   "outputs": [
    {
     "data": {
      "image/png": "[encoded data removed]",
      "text/plain": [
       "<Figure size 1200x600 with 1 Axes>"
      ]
     },
     "metadata": {},
     "output_type": "display_data"
    }
   ],
   "source": [
    "import matplotlib.pyplot as plt\n",
    "\n",
    "dic = {}\n",
    "for i in range(0, 9, 2):\n",
    "    key_name = (i, i+2)\n",
    "    dic[key_name] = []\n",
    "\n",
    "dic[(0,2)] = sum(1 for x in grades if x >= 0 and x <= 2)\n",
    "dic[(2,4)] = sum(1 for x in grades if x > 2 and x <= 4)\n",
    "dic[(4,6)] = sum(1 for x in grades if x > 4 and x <= 6)\n",
    "dic[(6,8)] = sum(1 for x in grades if x > 6 and x <= 8)\n",
    "dic[(8,10)] = sum(1 for x in grades if x > 8 and x <= 10)\n",
    "\n",
    "fig, ax = plt.subplots(figsize=(12, 6))\n",
    "\n",
    "bar_width = 1.8  \n",
    "light_blue = '#ADD8E6'  \n",
    "\n",
    "for i, ((start, end), value) in enumerate(dic.items()):\n",
    "    ax.bar([i * 2], [value], width=bar_width, edgecolor='black', align='center', color=light_blue)\n",
    "\n",
    "ax.set_xlabel('Khoảng Điểm', fontsize=12, fontweight='bold')\n",
    "ax.set_ylabel('Số lượng sinh viên', fontsize=12, fontweight='bold')\n",
    "ax.set_title('Biểu Đồ Cột Phân Phối Điểm', fontsize=16, fontweight='bold')\n",
    "\n",
    "ax.set_xticks(range(0, 10, 2))\n",
    "ax.set_xticklabels([f'{i}-{i+2}' for i in range(0, 10, 2)])\n",
    "ax.set_xlim(-1, 9)\n",
    "\n",
    "for spine in ax.spines.values():\n",
    "    spine.set_visible(False)\n",
    "\n",
    "ax.tick_params(axis='both', which='both', length=0)\n",
    "ax.grid(axis='y', linestyle='--', alpha=0.7)\n",
    "\n",
    "for i, ((start, end), value) in enumerate(dic.items()):\n",
    "    ax.text(i * 2, value, str(value), ha='center', va='bottom', fontweight='bold')\n",
    "\n",
    "plt.tight_layout()\n",
    "plt.show()"
   ]
  },
  {
   "cell_type": "markdown",
   "metadata": {},
   "source": [
    "> ### Nhận xét: \n",
    "> * Hình dạng phân bố: Phân bố điểm này có dạng lệch phải. Đa số điểm tập trung ở phía bên phải của biểu đồ, tức là ở các khoảng điểm cao hơn.\n",
    "> * Phân bố: Khoảng điểm có sự phân bố đông sinh viên nhất là khoảng từ $8$ - $10$ điểm."
   ]
  },
  {
   "cell_type": "markdown",
   "metadata": {
    "id": "NIhpFGmClyb6"
   },
   "source": [
    "## Tiền xử lý + phân tích dữ liệu để trả lời cho câu hỏi 2"
   ]
  },
  {
   "cell_type": "markdown",
   "metadata": {
    "id": "DZvZY3l6lyb7"
   },
   "source": [
    "*Câu hỏi 2: Câu quiz nào có nhiều bạn làm sai nhất, câu nào có nhiều bạn làm sai nhì, ...?*\n",
    "\n",
    "Ta có thể lưu kết quả vào một dictionary, trong đó: key là tên của cột ứng với câu quiz, value là điểm trung bình của cột. Dictionary này được sort tăng dần theo value.\n",
    "\n",
    "***Sinh viên hoàn thành tiếp phần này như bài tập về nhà***"
   ]
  },
  {
   "cell_type": "code",
   "execution_count": 14,
   "metadata": {},
   "outputs": [
    {
     "data": {
      "text/plain": [
       "[('Q. 13 /0.53', 0.36),\n",
       " ('Q. 14 /0.53', 0.36),\n",
       " ('Q. 5 /0.53', 0.39),\n",
       " ('Q. 6 /0.53', 0.39),\n",
       " ('Q. 18 /0.53', 0.39),\n",
       " ('Q. 19 /0.53', 0.39),\n",
       " ('Q. 15 /0.53', 0.41),\n",
       " ('Q. 17 /0.53', 0.41),\n",
       " ('Q. 1 /0.53', 0.43),\n",
       " ('Q. 2 /0.53', 0.45),\n",
       " ('Q. 3 /0.53', 0.45),\n",
       " ('Q. 4 /0.53', 0.45),\n",
       " ('Q. 11 /0.53', 0.46),\n",
       " ('Q. 7 /0.53', 0.47),\n",
       " ('Q. 9 /0.53', 0.47),\n",
       " ('Q. 16 /0.53', 0.47),\n",
       " ('Q. 8 /0.53', 0.48),\n",
       " ('Q. 10 /0.53', 0.48),\n",
       " ('Q. 12 /0.53', 0.5)]"
      ]
     },
     "execution_count": 14,
     "metadata": {},
     "output_type": "execute_result"
    }
   ],
   "source": [
    "scale={}\n",
    "for i in cols.items():\n",
    "    if 'Q.' in i[0]:\n",
    "        scale[i[0]]=round(sum(i[1])/len(i[1]),2)\n",
    "scale_asc=sorted(scale.items(), key=lambda x:x[1]) # sắp thứ tự điểm trung bình bằng hàm sorted, mặc định là theo thứ tự từ bé đến lớn\n",
    "scale_asc"
   ]
  },
  {
   "cell_type": "markdown",
   "metadata": {},
   "source": [
    "Dựa vào kết quả trên, ta nhận thấy câu quiz có nhiều bạn làm sai nhất chính là câu $13$ và $14$, bởi $2$ câu này có điểm trung bình thấp nhất - chỉ $0.36$. Trong khi đó, câu có nhiều bạn làm đúng nhất câu $12$, với số điểm trung bình đạt được là $0.5$"
   ]
  }
 ],
 "metadata": {
  "colab": {
   "provenance": []
  },
  "kernelspec": {
   "display_name": "Python 3",
   "language": "python",
   "name": "python3"
  },
  "language_info": {
   "codemirror_mode": {
    "name": "ipython",
    "version": 3
   },
   "file_extension": ".py",
   "mimetype": "text/x-python",
   "name": "python",
   "nbconvert_exporter": "python",
   "pygments_lexer": "ipython3",
   "version": "3.11.9"
  },
  "toc": {
   "base_numbering": 1,
   "nav_menu": {},
   "number_sections": true,
   "sideBar": true,
   "skip_h1_title": false,
   "title_cell": "Table of Contents",
   "title_sidebar": "Contents",
   "toc_cell": false,
   "toc_position": {
    "height": "calc(100% - 180px)",
    "left": "10px",
    "top": "150px",
    "width": "211.352px"
   },
   "toc_section_display": true,
   "toc_window_display": false
  },
  "toc-autonumbering": false
 },
 "nbformat": 4,
 "nbformat_minor": 4
}
